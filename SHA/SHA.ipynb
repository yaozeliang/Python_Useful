{
 "cells": [
  {
   "cell_type": "markdown",
   "metadata": {},
   "source": [
    "# Sha in Python"
   ]
  },
  {
   "cell_type": "markdown",
   "metadata": {},
   "source": [
    "SHA, ( Secure Hash Algorithms ) are set of cryptographic hash functions defined by the language to be used for various applications such as password security etc. Some variants of it are supported by Python in the “hashlib” library. These can be found using “algorithms_guaranteed” function of hashlib."
   ]
  },
  {
   "cell_type": "code",
   "execution_count": 1,
   "metadata": {},
   "outputs": [
    {
     "name": "stdout",
     "output_type": "stream",
     "text": [
      "The available algorithms are : {'sha3_384', 'sha3_256', 'shake_128', 'sha256', 'shake_256', 'md5', 'sha1', 'sha512', 'sha3_512', 'sha3_224', 'blake2b', 'sha224', 'sha384', 'blake2s'}\n"
     ]
    }
   ],
   "source": [
    "import hashlib \n",
    "  \n",
    "# prints all available algorithms \n",
    "print (\"The available algorithms are : \", end =\"\") \n",
    "print (hashlib.algorithms_guaranteed) "
   ]
  },
  {
   "cell_type": "markdown",
   "metadata": {},
   "source": [
    "Functions associated :\n",
    "\n",
    "- encode() : Converts the string into bytes to be acceptable by hash function.\n",
    "- hexdigest() : Returns the encoded data in hexadecimal format.\n"
   ]
  },
  {
   "cell_type": "markdown",
   "metadata": {},
   "source": [
    " The different SHA hash functions are explained below.\n",
    " \n",
    " \n",
    "- SHA256 : This hash function belong to hash class SHA-2, the internal block size of it is 32 bits.\n",
    "- SHA384 : This hash function belong to hash class SHA-2, the internal block size of it is 32 bits. This is one of the truncated version.\n",
    "- SHA224 : This hash function belong to hash class SHA-2, the internal block size of it is 32 bits. This is one of the truncated version.\n",
    "- SHA512 : This hash function belong to hash class SHA-2, the internal block size of it is 64 bits.\n",
    "- SHA1 : The 160 bit hash function that resembles MD5 hash in working and was discontinued to be used seeing its security vulnerabilities.\n"
   ]
  },
  {
   "cell_type": "code",
   "execution_count": 4,
   "metadata": {
    "scrolled": true
   },
   "outputs": [
    {
     "name": "stdout",
     "output_type": "stream",
     "text": [
      "The hexadecimal equivalent of SHA256 is : \n",
      "f6071725e7ddeb434fb6b32b8ec4a2b14dd7db0d785347b2fb48f9975126178f\n",
      "\r\n",
      "The hexadecimal equivalent of SHA384 is : \n",
      "d1e67b8819b009ec7929933b6fc1928dd64b5df31bcde6381b9d3f90488d253240490460c0a5a1a873da8236c12ef9b3\n",
      "\r\n",
      "The hexadecimal equivalent of SHA224 is : \n",
      "173994f309f727ca939bb185086cd7b36e66141c9e52ba0bdcfd145d\n",
      "\r\n",
      "The hexadecimal equivalent of SHA512 is : \n",
      "0d8fb9370a5bf7b892be4865cdf8b658a82209624e33ed71cae353b0df254a75db63d1baa35ad99f26f1b399c31f3c666a7fc67ecef3bdcdb7d60e8ada90b722\n",
      "\r\n",
      "The hexadecimal equivalent of SHA1 is : \n",
      "4175a37afd561152fb60c305d4fa6026b7e79856\n"
     ]
    }
   ],
   "source": [
    "# Python 3 code to demonstrate \n",
    "# SHA hash algorithms. \n",
    "  \n",
    "import hashlib \n",
    "  \n",
    "# initializing string \n",
    "str = \"GeeksforGeeks\"\n",
    "  \n",
    "# encoding GeeksforGeeks using encode() \n",
    "# then sending to SHA256() \n",
    "result = hashlib.sha256(str.encode())    #<sha256 HASH object>\n",
    "\n",
    "\n",
    "# printing the equivalent hexadecimal value. \n",
    "print(\"The hexadecimal equivalent of SHA256 is : \") \n",
    "print(result.hexdigest()) \n",
    "  \n",
    "print (\"\\r\") \n",
    "  \n",
    "# initializing string \n",
    "str = \"GeeksforGeeks\"\n",
    "  \n",
    "# encoding GeeksforGeeks using encode() \n",
    "# then sending to SHA384() \n",
    "result = hashlib.sha384(str.encode()) \n",
    "  \n",
    "# printing the equivalent hexadecimal value. \n",
    "print(\"The hexadecimal equivalent of SHA384 is : \") \n",
    "print(result.hexdigest()) \n",
    "  \n",
    "print (\"\\r\") \n",
    "  \n",
    "# initializing string \n",
    "str = \"GeeksforGeeks\"\n",
    "  \n",
    "# encoding GeeksforGeeks using encode() \n",
    "# then sending to SHA224() \n",
    "result = hashlib.sha224(str.encode()) \n",
    "  \n",
    "# printing the equivalent hexadecimal value. \n",
    "print(\"The hexadecimal equivalent of SHA224 is : \") \n",
    "print(result.hexdigest()) \n",
    "  \n",
    "print (\"\\r\") \n",
    "  \n",
    "# initializing string \n",
    "str = \"GeeksforGeeks\"\n",
    "  \n",
    "# encoding GeeksforGeeks using encode() \n",
    "# then sending to SHA512() \n",
    "result = hashlib.sha512(str.encode()) \n",
    "  \n",
    "# printing the equivalent hexadecimal value. \n",
    "print(\"The hexadecimal equivalent of SHA512 is : \") \n",
    "print(result.hexdigest()) \n",
    "  \n",
    "print (\"\\r\") \n",
    "  \n",
    "# initializing string \n",
    "str = \"GeeksforGeeks\"\n",
    "  \n",
    "# encoding GeeksforGeeks using encode() \n",
    "# then sending to SHA1() \n",
    "result = hashlib.sha1(str.encode()) \n",
    "  \n",
    "# printing the equivalent hexadecimal value. \n",
    "print(\"The hexadecimal equivalent of SHA1 is : \") \n",
    "print(result.hexdigest()) "
   ]
  },
  {
   "cell_type": "code",
   "execution_count": 8,
   "metadata": {},
   "outputs": [
    {
     "data": {
      "text/plain": [
       "'b1a96dd646bccaa24cef7a3db22a6f995f05658f4f1c3272913e258c03e6fb24'"
      ]
     },
     "execution_count": 8,
     "metadata": {},
     "output_type": "execute_result"
    }
   ],
   "source": [
    "import hashlib\n",
    "\n",
    "def hash_string(string):\n",
    "    \"\"\"\n",
    "    Return a SHA-256 hash of the given string\n",
    "    \"\"\"\n",
    "    return hashlib.sha256(string.encode('utf-8')).hexdigest()\n",
    "\n",
    "hash_string(\"Alpha\")"
   ]
  },
  {
   "cell_type": "code",
   "execution_count": null,
   "metadata": {},
   "outputs": [],
   "source": []
  }
 ],
 "metadata": {
  "kernelspec": {
   "display_name": "Python 3",
   "language": "python",
   "name": "python3"
  },
  "language_info": {
   "codemirror_mode": {
    "name": "ipython",
    "version": 3
   },
   "file_extension": ".py",
   "mimetype": "text/x-python",
   "name": "python",
   "nbconvert_exporter": "python",
   "pygments_lexer": "ipython3",
   "version": "3.7.3"
  }
 },
 "nbformat": 4,
 "nbformat_minor": 2
}

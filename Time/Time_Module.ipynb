{
 "cells": [
  {
   "cell_type": "markdown",
   "metadata": {},
   "source": [
    "# Time Module"
   ]
  },
  {
   "cell_type": "markdown",
   "metadata": {},
   "source": [
    "## Dealing With Python Time Using Seconds"
   ]
  },
  {
   "cell_type": "code",
   "execution_count": 1,
   "metadata": {
    "scrolled": true
   },
   "outputs": [
    {
     "data": {
      "text/plain": [
       "86400"
      ]
     },
     "execution_count": 1,
     "metadata": {},
     "output_type": "execute_result"
    }
   ],
   "source": [
    "60 * 60 * 24"
   ]
  },
  {
   "cell_type": "markdown",
   "metadata": {},
   "source": [
    "## Python Time in Seconds as a Floating Point Number"
   ]
  },
  {
   "cell_type": "code",
   "execution_count": 2,
   "metadata": {},
   "outputs": [
    {
     "data": {
      "text/plain": [
       "1557492349.7771308"
      ]
     },
     "execution_count": 2,
     "metadata": {},
     "output_type": "execute_result"
    }
   ],
   "source": [
    "from time import time\n",
    "time()"
   ]
  },
  {
   "cell_type": "markdown",
   "metadata": {},
   "source": [
    "## Python Time in Seconds as a String Representing Local Time"
   ]
  },
  {
   "cell_type": "markdown",
   "metadata": {},
   "source": [
    "As you saw before, you may want to convert the Python time, represented as the number of elapsed seconds since the epoch, to a string. You can do so using ctime():"
   ]
  },
  {
   "cell_type": "code",
   "execution_count": 3,
   "metadata": {},
   "outputs": [
    {
     "data": {
      "text/plain": [
       "'Fri May 10 14:45:49 2019'"
      ]
     },
     "execution_count": 3,
     "metadata": {},
     "output_type": "execute_result"
    }
   ],
   "source": [
    "from time import time, ctime\n",
    "t = time()\n",
    "ctime(t)"
   ]
  },
  {
   "cell_type": "code",
   "execution_count": 4,
   "metadata": {},
   "outputs": [
    {
     "data": {
      "text/plain": [
       "'Fri May 10 14:45:49 2019'"
      ]
     },
     "execution_count": 4,
     "metadata": {},
     "output_type": "execute_result"
    }
   ],
   "source": [
    "# The same as above\n",
    "from time import ctime\n",
    "ctime()"
   ]
  },
  {
   "cell_type": "markdown",
   "metadata": {},
   "source": [
    "The string representation of time, also known as a timestamp, returned by ctime() is formatted with the following structure:\n",
    "\n",
    "- Day of the week: Thu (Thursday)\n",
    "- Month of the year: May (May)\n",
    "- Day of the month: 9\n",
    "- Hours, minutes, and seconds using the 24-hour clock notation: 19:11:59\n",
    "- Year: 2019\n"
   ]
  },
  {
   "cell_type": "markdown",
   "metadata": {},
   "source": [
    "## Dealing With Python Time Using Data Structures"
   ]
  },
  {
   "cell_type": "markdown",
   "metadata": {},
   "source": [
    ">  Python Time as a Tuple"
   ]
  },
  {
   "cell_type": "markdown",
   "metadata": {},
   "source": [
    "When you represent time as a tuple, each element in your tuple corresponds to a specific element of time:\n",
    "\n",
    "- Year\n",
    "- Month as an integer, ranging between 1 (January) and 12 (December)\n",
    "- Day of the month\n",
    "- Hour as an integer, ranging between 0 (12 A.M.) and 23 (11 P.M.)\n",
    "- Minute\n",
    "- Second\n",
    "- Day of the week as an integer, ranging between 0 (Monday) and 6 (Sunday)\n",
    "- Day of the year\n",
    "- Daylight savings time as an integer with the following values:\n",
    "    - 1 is daylight savings time.\n",
    "    - 0 is standard time.\n",
    "    - -1 is unknown.\n"
   ]
  },
  {
   "cell_type": "code",
   "execution_count": 5,
   "metadata": {},
   "outputs": [
    {
     "data": {
      "text/plain": [
       "'Fri May 10 14:45:49 2019'"
      ]
     },
     "execution_count": 5,
     "metadata": {},
     "output_type": "execute_result"
    }
   ],
   "source": [
    "ctime()"
   ]
  },
  {
   "cell_type": "code",
   "execution_count": 6,
   "metadata": {},
   "outputs": [
    {
     "data": {
      "text/plain": [
       "(2019, 2, 26, 7, 6, 55, 1, 57, 0)"
      ]
     },
     "execution_count": 6,
     "metadata": {},
     "output_type": "execute_result"
    }
   ],
   "source": [
    "time_tuple = (2019, 2, 26, 7, 6, 55, 1, 57, 0)\n",
    "time_tuple"
   ]
  },
  {
   "cell_type": "markdown",
   "metadata": {},
   "source": [
    "## Python Time as an Object"
   ]
  },
  {
   "cell_type": "markdown",
   "metadata": {},
   "source": [
    "The problem with the tuple construct is that it still looks like a bunch of numbers, even though it’s better organized than a single, seconds-based number.\n",
    "\n",
    "struct_time provides a solution to this by utilizing NamedTuple, from Python’s collections module, to associate the tuple’s sequence of numbers with useful identifiers:"
   ]
  },
  {
   "cell_type": "code",
   "execution_count": 7,
   "metadata": {},
   "outputs": [
    {
     "data": {
      "text/plain": [
       "time.struct_time(tm_year=2019, tm_mon=5, tm_mday=9, tm_hour=7, tm_min=6, tm_sec=55, tm_wday=1, tm_yday=57, tm_isdst=0)"
      ]
     },
     "execution_count": 7,
     "metadata": {},
     "output_type": "execute_result"
    }
   ],
   "source": [
    "from time import struct_time\n",
    "time_tuple = (2019, 5, 9, 7, 6, 55, 1, 57, 0)\n",
    "time_obj = struct_time(time_tuple)\n",
    "time_obj"
   ]
  },
  {
   "cell_type": "code",
   "execution_count": 8,
   "metadata": {},
   "outputs": [
    {
     "data": {
      "text/plain": [
       "7"
      ]
     },
     "execution_count": 8,
     "metadata": {},
     "output_type": "execute_result"
    }
   ],
   "source": [
    "time_obj.tm_hour"
   ]
  },
  {
   "cell_type": "code",
   "execution_count": 9,
   "metadata": {},
   "outputs": [
    {
     "data": {
      "text/plain": [
       "9"
      ]
     },
     "execution_count": 9,
     "metadata": {},
     "output_type": "execute_result"
    }
   ],
   "source": [
    "time_obj.tm_mday"
   ]
  },
  {
   "cell_type": "markdown",
   "metadata": {},
   "source": [
    "## Converting Python Time in Seconds to an Object"
   ]
  },
  {
   "cell_type": "markdown",
   "metadata": {},
   "source": [
    ">Coordinated Universal Time (UTC)"
   ]
  },
  {
   "cell_type": "markdown",
   "metadata": {},
   "source": [
    "The epoch uses UTC for its definition rather than a time zone. Therefore, the seconds elapsed since the epoch is not variable depending on your geographical location.\n",
    "\n",
    "However, the same cannot be said of struct_time. The object representation of Python time may or may not take your time zone into account."
   ]
  },
  {
   "cell_type": "markdown",
   "metadata": {},
   "source": [
    "There are two ways to convert a float representing seconds to a struct_time:\n",
    "- UTC\n",
    "- Local time\n",
    "\n",
    "To convert a Python time float to a UTC-based struct_time, the Python time module provides a function called gmtime()."
   ]
  },
  {
   "cell_type": "code",
   "execution_count": 15,
   "metadata": {},
   "outputs": [
    {
     "data": {
      "text/plain": [
       "time.struct_time(tm_year=1970, tm_mon=1, tm_mday=1, tm_hour=0, tm_min=0, tm_sec=0, tm_wday=3, tm_yday=1, tm_isdst=0)"
      ]
     },
     "execution_count": 15,
     "metadata": {},
     "output_type": "execute_result"
    }
   ],
   "source": [
    "import time\n",
    "time.gmtime(0)"
   ]
  },
  {
   "cell_type": "markdown",
   "metadata": {},
   "source": [
    "gmtime() converts the number of elapsed seconds since the epoch to a struct_time in UTC. In this case, you’ve passed 0 as the number of seconds, meaning you’re trying to find the epoch, itself, in UTC."
   ]
  },
  {
   "cell_type": "markdown",
   "metadata": {},
   "source": [
    "Note: Notice the attribute tm_isdst is set to 0. This attribute represents whether the time zone is using daylight savings time. UTC never subscribes to DST, so that flag will always be 0 when using gmtime()."
   ]
  },
  {
   "cell_type": "code",
   "execution_count": 16,
   "metadata": {},
   "outputs": [
    {
     "data": {
      "text/plain": [
       "time.struct_time(tm_year=2019, tm_mon=5, tm_mday=10, tm_hour=14, tm_min=6, tm_sec=45, tm_wday=4, tm_yday=130, tm_isdst=0)"
      ]
     },
     "execution_count": 16,
     "metadata": {},
     "output_type": "execute_result"
    }
   ],
   "source": [
    "time.gmtime()"
   ]
  },
  {
   "cell_type": "code",
   "execution_count": 18,
   "metadata": {},
   "outputs": [
    {
     "data": {
      "text/plain": [
       "time.struct_time(tm_year=2019, tm_mon=5, tm_mday=10, tm_hour=14, tm_min=7, tm_sec=55, tm_wday=4, tm_yday=130, tm_isdst=0)"
      ]
     },
     "execution_count": 18,
     "metadata": {},
     "output_type": "execute_result"
    }
   ],
   "source": [
    "import calendar\n",
    "time.gmtime()"
   ]
  },
  {
   "cell_type": "code",
   "execution_count": 23,
   "metadata": {},
   "outputs": [
    {
     "data": {
      "text/plain": [
       "1557497326"
      ]
     },
     "execution_count": 23,
     "metadata": {},
     "output_type": "execute_result"
    }
   ],
   "source": [
    "# Return how many seconds has passed since the first \n",
    "calendar.timegm(time.gmtime())"
   ]
  },
  {
   "cell_type": "markdown",
   "metadata": {},
   "source": [
    "timegm() takes a tuple (or struct_time, since it is a subclass of tuple) and returns the corresponding number of seconds since the epoch."
   ]
  },
  {
   "cell_type": "markdown",
   "metadata": {},
   "source": [
    ">Local Time"
   ]
  },
  {
   "cell_type": "markdown",
   "metadata": {},
   "source": [
    "In your application, you may need to work with local time rather than UTC. Python’s time module provides a function for getting local time from the number of seconds elapsed since the epoch called localtime().\n",
    "\n",
    "The signature of localtime() is similar to gmtime() in that it takes an optional secs argument, which it uses to build a struct_time using your local time zone:"
   ]
  },
  {
   "cell_type": "code",
   "execution_count": 25,
   "metadata": {},
   "outputs": [
    {
     "data": {
      "text/plain": [
       "1557497573.9224696"
      ]
     },
     "execution_count": 25,
     "metadata": {},
     "output_type": "execute_result"
    }
   ],
   "source": [
    "import time\n",
    "time.time()"
   ]
  },
  {
   "cell_type": "code",
   "execution_count": 26,
   "metadata": {},
   "outputs": [
    {
     "data": {
      "text/plain": [
       "time.struct_time(tm_year=2019, tm_mon=3, tm_mday=1, tm_hour=14, tm_min=50, tm_sec=6, tm_wday=4, tm_yday=60, tm_isdst=0)"
      ]
     },
     "execution_count": 26,
     "metadata": {},
     "output_type": "execute_result"
    }
   ],
   "source": [
    "time.localtime(1551448206.86196)"
   ]
  },
  {
   "cell_type": "markdown",
   "metadata": {},
   "source": [
    "Since Python 3.3, struct_time has also included two attributes that are useful in determining the time zone of the struct_time:\n",
    "\n",
    "    tm_zone\n",
    "    tm_gmtoff\n"
   ]
  },
  {
   "cell_type": "code",
   "execution_count": 28,
   "metadata": {},
   "outputs": [
    {
     "data": {
      "text/plain": [
       "'Romance Daylight Time'"
      ]
     },
     "execution_count": 28,
     "metadata": {},
     "output_type": "execute_result"
    }
   ],
   "source": [
    "import time\n",
    "current_local = time.localtime()\n",
    "current_local.tm_zone"
   ]
  },
  {
   "cell_type": "markdown",
   "metadata": {},
   "source": [
    "Here, you can see that localtime() returns a struct_time with the time zone set to CST (Central Standard Time).\n",
    "\n",
    "As you saw before, you can also tell the time zone based on two pieces of information, the UTC offset and DST (if applicable):"
   ]
  },
  {
   "cell_type": "code",
   "execution_count": 29,
   "metadata": {},
   "outputs": [
    {
     "data": {
      "text/plain": [
       "7200"
      ]
     },
     "execution_count": 29,
     "metadata": {},
     "output_type": "execute_result"
    }
   ],
   "source": [
    "import time\n",
    "current_local = time.localtime()\n",
    "current_local.tm_gmtoff"
   ]
  },
  {
   "cell_type": "code",
   "execution_count": 30,
   "metadata": {},
   "outputs": [
    {
     "data": {
      "text/plain": [
       "1"
      ]
     },
     "execution_count": 30,
     "metadata": {},
     "output_type": "execute_result"
    }
   ],
   "source": [
    "current_local.tm_isdst"
   ]
  },
  {
   "cell_type": "markdown",
   "metadata": {},
   "source": [
    "In this case, you can see that current_local is 21600 seconds behind GMT, which stands for Greenwich Mean Time. GMT is the time zone with no UTC offset: UTC±00:00.\n",
    "\n",
    "21600 seconds divided by seconds per hour (3,600) means that current_local time is GMT-06:00 (or UTC-06:00).\n",
    "\n",
    "You can use the GMT offset plus the DST status to deduce that current_local is UTC-06:00 at standard time, which corresponds to the Central standard time zone.\n",
    "\n",
    "Like gmtime(), you can ignore the secs argument when calling localtime(), and it will return the current local time in a struct_time:"
   ]
  },
  {
   "cell_type": "code",
   "execution_count": 31,
   "metadata": {},
   "outputs": [
    {
     "data": {
      "text/plain": [
       "time.struct_time(tm_year=2019, tm_mon=5, tm_mday=10, tm_hour=16, tm_min=15, tm_sec=48, tm_wday=4, tm_yday=130, tm_isdst=1)"
      ]
     },
     "execution_count": 31,
     "metadata": {},
     "output_type": "execute_result"
    }
   ],
   "source": [
    "import time\n",
    "time.localtime()"
   ]
  },
  {
   "cell_type": "markdown",
   "metadata": {},
   "source": [
    "Unlike gmtime(), the inverse function of localtime() does exist in the Python time module. Let’s take a look at how that works."
   ]
  },
  {
   "cell_type": "code",
   "execution_count": 32,
   "metadata": {},
   "outputs": [
    {
     "data": {
      "text/plain": [
       "1552200606.0"
      ]
     },
     "execution_count": 32,
     "metadata": {},
     "output_type": "execute_result"
    }
   ],
   "source": [
    "import time\n",
    "\n",
    "time_tuple = (2019, 3, 10, 8, 50, 6, 6, 69, 1)\n",
    "time.mktime(time_tuple)"
   ]
  },
  {
   "cell_type": "code",
   "execution_count": 33,
   "metadata": {},
   "outputs": [
    {
     "data": {
      "text/plain": [
       "1552200606.0"
      ]
     },
     "execution_count": 33,
     "metadata": {},
     "output_type": "execute_result"
    }
   ],
   "source": [
    "time_struct = time.struct_time(time_tuple)\n",
    "time.mktime(time_struct)"
   ]
  },
  {
   "cell_type": "markdown",
   "metadata": {},
   "source": [
    "It’s important to keep in mind that t must be a tuple representing local time, not UTC:"
   ]
  },
  {
   "cell_type": "code",
   "execution_count": 34,
   "metadata": {},
   "outputs": [
    {
     "data": {
      "text/plain": [
       "time.struct_time(tm_year=2019, tm_mon=5, tm_mday=10, tm_hour=14, tm_min=17, tm_sec=5, tm_wday=4, tm_yday=130, tm_isdst=0)"
      ]
     },
     "execution_count": 34,
     "metadata": {},
     "output_type": "execute_result"
    }
   ],
   "source": [
    "from time import gmtime, mktime\n",
    "\n",
    "# 1\n",
    "current_utc = time.gmtime()\n",
    "current_utc"
   ]
  },
  {
   "cell_type": "code",
   "execution_count": 35,
   "metadata": {},
   "outputs": [
    {
     "data": {
      "text/plain": [
       "1557494225.0"
      ]
     },
     "execution_count": 35,
     "metadata": {},
     "output_type": "execute_result"
    }
   ],
   "source": [
    "# 2\n",
    "current_utc_secs = mktime(current_utc)\n",
    "current_utc_secs"
   ]
  },
  {
   "cell_type": "code",
   "execution_count": 36,
   "metadata": {},
   "outputs": [
    {
     "data": {
      "text/plain": [
       "time.struct_time(tm_year=2019, tm_mon=5, tm_mday=10, tm_hour=13, tm_min=17, tm_sec=5, tm_wday=4, tm_yday=130, tm_isdst=0)"
      ]
     },
     "execution_count": 36,
     "metadata": {},
     "output_type": "execute_result"
    }
   ],
   "source": [
    "# 3\n",
    "time.gmtime(current_utc_secs)"
   ]
  },
  {
   "cell_type": "markdown",
   "metadata": {},
   "source": [
    "This example shows why it’s important to use mktime() with local time, rather than UTC:\n",
    "\n",
    "  - gmtime() with no argument returns a struct_time using UTC. current_utc shows March 1, 2019 14:51:19 UTC. This is accurate because CST is UTC-06:00, so UTC should be 6 hours ahead of local time.\n",
    "\n",
    "  - mktime() tries to return the number of seconds, expecting local time, but you passed current_utc instead. So, instead of understanding that current_utc is UTC time, it assumes you meant March 1, 2019 14:51:19 CST.\n",
    "\n",
    "  - gmtime() is then used to convert those seconds back into UTC, which results in an inconsistency. The time is now March 1, 2019 20:51:19 UTC. The reason for this discrepancy is the fact that mktime() expected local time. So, the conversion back to UTC adds another 6 hours to local time.\n",
    "\n",
    "Working with time zones is notoriously difficult, so it’s important to set yourself up for success by understanding the differences between UTC and local time and the Python time functions that deal with each."
   ]
  },
  {
   "cell_type": "markdown",
   "metadata": {},
   "source": [
    "## Converting a Python Time Object to a String"
   ]
  },
  {
   "cell_type": "markdown",
   "metadata": {},
   "source": [
    "String representations of time, also known as timestamps, help make times more readable and can be especially useful for building intuitive user interfaces.\n",
    "\n",
    "There are two Python time functions that you use for converting a time.struct_time object to a string:\n",
    "\n",
    "    asctime()\n",
    "    strftime()\n"
   ]
  },
  {
   "cell_type": "markdown",
   "metadata": {},
   "source": [
    "> asctime()"
   ]
  },
  {
   "cell_type": "markdown",
   "metadata": {},
   "source": [
    "You use asctime() for converting a time tuple or struct_time to a timestamp:"
   ]
  },
  {
   "cell_type": "code",
   "execution_count": 39,
   "metadata": {},
   "outputs": [
    {
     "data": {
      "text/plain": [
       "'Fri May 10 14:20:00 2019'"
      ]
     },
     "execution_count": 39,
     "metadata": {},
     "output_type": "execute_result"
    }
   ],
   "source": [
    "import time\n",
    "time.asctime(time.gmtime())"
   ]
  },
  {
   "cell_type": "code",
   "execution_count": 40,
   "metadata": {},
   "outputs": [
    {
     "data": {
      "text/plain": [
       "'Fri May 10 16:20:16 2019'"
      ]
     },
     "execution_count": 40,
     "metadata": {},
     "output_type": "execute_result"
    }
   ],
   "source": [
    "time.asctime(time.localtime())"
   ]
  },
  {
   "cell_type": "markdown",
   "metadata": {},
   "source": [
    "Both gmtime() and localtime() return struct_time instances, for UTC and local time respectively.\n",
    "\n",
    "You can use asctime() to convert either struct_time to a timestamp. asctime() works similarly to ctime(), which you learned about earlier in this article, except instead of passing a floating point number, you pass a tuple. Even the timestamp format is the same between the two functions.\n",
    "\n",
    "As with ctime(), the parameter for asctime() is optional. If you do not pass a time object to asctime(), then it will use the current local time:"
   ]
  },
  {
   "cell_type": "code",
   "execution_count": 43,
   "metadata": {
    "scrolled": true
   },
   "outputs": [
    {
     "data": {
      "text/plain": [
       "'Fri May 10 16:21:17 2019'"
      ]
     },
     "execution_count": 43,
     "metadata": {},
     "output_type": "execute_result"
    }
   ],
   "source": [
    "import time\n",
    "time.asctime()"
   ]
  },
  {
   "cell_type": "markdown",
   "metadata": {},
   "source": [
    "As with ctime(), it also ignores locale information.\n",
    "\n",
    "One of the biggest drawbacks of asctime() is its format inflexibility. strftime() solves this problem by allowing you to format your timestamps."
   ]
  },
  {
   "cell_type": "markdown",
   "metadata": {},
   "source": [
    "> strftime()"
   ]
  },
  {
   "cell_type": "markdown",
   "metadata": {},
   "source": [
    "You may find yourself in a position where the string format from ctime() and asctime() isn’t satisfactory for your application. Instead, you may want to format your strings in a way that’s more meaningful to your users.\n",
    "\n",
    "One example of this is if you would like to display your time in a string that takes locale information into account.\n",
    "\n",
    "To format strings, given a struct_time or Python time tuple, you use strftime(), which stands for “string format time.”"
   ]
  },
  {
   "cell_type": "markdown",
   "metadata": {},
   "source": [
    "strftime() takes two arguments:\n",
    "\n",
    "    format specifies the order and form of the time elements in your string.\n",
    "    t is an optional time tuple.\n",
    "\n",
    "To format a string, you use directives. Directives are character sequences that begin with a % that specify a particular time element, such as:\n",
    "\n",
    "    %d: Day of the month\n",
    "    %m: Month of the year\n",
    "    %Y: Year\n"
   ]
  },
  {
   "cell_type": "code",
   "execution_count": 49,
   "metadata": {},
   "outputs": [
    {
     "data": {
      "text/plain": [
       "'2019-05-10'"
      ]
     },
     "execution_count": 49,
     "metadata": {},
     "output_type": "execute_result"
    }
   ],
   "source": [
    "import time\n",
    "time.strftime('%Y-%m-%d', time.localtime())"
   ]
  },
  {
   "cell_type": "markdown",
   "metadata": {},
   "source": [
    " While representing dates using Python time is completely valid and acceptable, you should also consider using Python’s datetime module, which provides shortcuts and a more robust framework for working with dates and times together.\n",
    "\n",
    "For example, you can simplify outputting a date in the ISO 8601 format using datetime:"
   ]
  },
  {
   "cell_type": "code",
   "execution_count": 56,
   "metadata": {
    "scrolled": false
   },
   "outputs": [
    {
     "data": {
      "text/plain": [
       "'2019-05-10 16:35'"
      ]
     },
     "execution_count": 56,
     "metadata": {},
     "output_type": "execute_result"
    }
   ],
   "source": [
    "import datetime\n",
    "datetime.datetime.now().strftime(\"%Y-%m-%d %H:%M\")"
   ]
  },
  {
   "cell_type": "code",
   "execution_count": 61,
   "metadata": {
    "scrolled": true
   },
   "outputs": [
    {
     "data": {
      "text/plain": [
       "'2019-05-10'"
      ]
     },
     "execution_count": 61,
     "metadata": {},
     "output_type": "execute_result"
    }
   ],
   "source": [
    "f\"{datetime.datetime.now():%Y-%m-%d}\""
   ]
  },
  {
   "cell_type": "markdown",
   "metadata": {},
   "source": [
    "## Customize your own time format"
   ]
  },
  {
   "cell_type": "code",
   "execution_count": 62,
   "metadata": {},
   "outputs": [
    {
     "data": {
      "text/plain": [
       "'2019-05-10 16:36'"
      ]
     },
     "execution_count": 62,
     "metadata": {},
     "output_type": "execute_result"
    }
   ],
   "source": [
    "import time\n",
    "\n",
    "time.strftime(\"%Y-%m-%d %H:%M\")"
   ]
  },
  {
   "cell_type": "markdown",
   "metadata": {},
   "source": [
    "%a  Locale’s abbreviated weekday name.\n",
    "    %A  Locale’s full weekday name.      \n",
    "    %b  Locale’s abbreviated month name.     \n",
    "    %B  Locale’s full month name.\n",
    "    %c  Locale’s appropriate date and time representation.   \n",
    "    %d  Day of the month as a decimal number [01,31].    \n",
    "    %f  Microsecond as a decimal number [0,999999], zero-padded on the left\n",
    "    %H  Hour (24-hour clock) as a decimal number [00,23].    \n",
    "    %I  Hour (12-hour clock) as a decimal number [01,12].    \n",
    "    %j  Day of the year as a decimal number [001,366].   \n",
    "    %m  Month as a decimal number [01,12].   \n",
    "    %M  Minute as a decimal number [00,59].      \n",
    "    %p  Locale’s equivalent of either AM or PM.\n",
    "    %S  Second as a decimal number [00,61].\n",
    "    %U  Week number of the year (Sunday as the first day of the week)\n",
    "    %w  Weekday as a decimal number [0(Sunday),6].   \n",
    "    %W  Week number of the year (Monday as the first day of the week)\n",
    "    %x  Locale’s appropriate date representation.    \n",
    "    %X  Locale’s appropriate time representation.    \n",
    "    %y  Year without century as a decimal number [00,99].    \n",
    "    %Y  Year with century as a decimal number.   \n",
    "    %z  UTC offset in the form +HHMM or -HHMM.\n",
    "    %Z  Time zone name (empty string if the object is naive).    \n",
    "    %%  A literal '%' character."
   ]
  },
  {
   "cell_type": "code",
   "execution_count": 70,
   "metadata": {
    "scrolled": true
   },
   "outputs": [
    {
     "name": "stdout",
     "output_type": "stream",
     "text": [
      "Time in seconds since the epoch: 1557499522.8654041\n",
      "Current date and time:  2019-05-10 16:45:22.865404\n",
      "Or like this:  19-05-10-16-45\n",
      "Current year:  2019\n",
      "Month of year:  May\n",
      "Week number of the year:  18\n",
      "Weekday of the week:  5\n",
      "Day of year:  130\n",
      "Day of the month :  10\n",
      "Day of week:  Friday\n"
     ]
    }
   ],
   "source": [
    "import time\n",
    "import datetime\n",
    "\n",
    "print (\"Time in seconds since the epoch: %s\" %time.time())\n",
    "print (\"Current date and time: \" , datetime.datetime.now())\n",
    "print (\"Or like this: \" ,datetime.datetime.now().strftime(\"%y-%m-%d-%H-%M\"))\n",
    "\n",
    "\n",
    "print (\"Current year: \", datetime.date.today().strftime(\"%Y\"))\n",
    "print (\"Month of year: \", datetime.date.today().strftime(\"%B\"))\n",
    "print (\"Week number of the year: \", datetime.date.today().strftime(\"%W\"))\n",
    "print (\"Weekday of the week: \", datetime.date.today().strftime(\"%w\"))\n",
    "print (\"Day of year: \", datetime.date.today().strftime(\"%j\"))\n",
    "print (\"Day of the month : \", datetime.date.today().strftime(\"%d\"))\n",
    "print (\"Day of week: \", datetime.date.today().strftime(\"%A\"))\n"
   ]
  },
  {
   "cell_type": "code",
   "execution_count": 1,
   "metadata": {},
   "outputs": [
    {
     "name": "stdout",
     "output_type": "stream",
     "text": [
      "05/13/2019, 09:42:49\n"
     ]
    }
   ],
   "source": [
    "import time\n",
    "\n",
    "named_tuple = time.localtime() # get struct_time\n",
    "time_string = time.strftime(\"%m/%d/%Y, %H:%M:%S\", named_tuple)\n",
    "\n",
    "print(time_string)"
   ]
  },
  {
   "cell_type": "markdown",
   "metadata": {},
   "source": [
    "Here, %Y, %m, %d, %H etc. are format codes.\n",
    "\n",
    "    %Y - year [0001,..., 2018, 2019,..., 9999]\n",
    "    %m - month [01, 02, ..., 11, 12]\n",
    "    %d - day [01, 02, ..., 30, 31]\n",
    "    %H - hour [00, 01, ..., 22, 23\n",
    "    %M - month [00, 01, ..., 58, 59]\n",
    "    %S - second [00, 01, ..., 58, 61]\n"
   ]
  },
  {
   "cell_type": "markdown",
   "metadata": {},
   "source": [
    "> Example of digital clock"
   ]
  },
  {
   "cell_type": "code",
   "execution_count": 6,
   "metadata": {},
   "outputs": [
    {
     "name": "stdout",
     "output_type": "stream",
     "text": [
      "09:50:14 AM\r"
     ]
    },
    {
     "ename": "KeyboardInterrupt",
     "evalue": "",
     "output_type": "error",
     "traceback": [
      "\u001b[1;31m---------------------------------------------------------------------------\u001b[0m",
      "\u001b[1;31mKeyboardInterrupt\u001b[0m                         Traceback (most recent call last)",
      "\u001b[1;32m<ipython-input-6-8c54c34595e0>\u001b[0m in \u001b[0;36m<module>\u001b[1;34m\u001b[0m\n\u001b[0;32m      6\u001b[0m   \u001b[0mprint\u001b[0m\u001b[1;33m(\u001b[0m\u001b[0mresult\u001b[0m\u001b[1;33m,\u001b[0m \u001b[0mend\u001b[0m\u001b[1;33m=\u001b[0m\u001b[1;34m\"\"\u001b[0m\u001b[1;33m,\u001b[0m \u001b[0mflush\u001b[0m\u001b[1;33m=\u001b[0m\u001b[1;32mTrue\u001b[0m\u001b[1;33m)\u001b[0m\u001b[1;33m\u001b[0m\u001b[1;33m\u001b[0m\u001b[0m\n\u001b[0;32m      7\u001b[0m   \u001b[0mprint\u001b[0m\u001b[1;33m(\u001b[0m\u001b[1;34m\"\\r\"\u001b[0m\u001b[1;33m,\u001b[0m \u001b[0mend\u001b[0m\u001b[1;33m=\u001b[0m\u001b[1;34m\"\"\u001b[0m\u001b[1;33m,\u001b[0m \u001b[0mflush\u001b[0m\u001b[1;33m=\u001b[0m\u001b[1;32mTrue\u001b[0m\u001b[1;33m)\u001b[0m\u001b[1;33m\u001b[0m\u001b[1;33m\u001b[0m\u001b[0m\n\u001b[1;32m----> 8\u001b[1;33m   \u001b[0mtime\u001b[0m\u001b[1;33m.\u001b[0m\u001b[0msleep\u001b[0m\u001b[1;33m(\u001b[0m\u001b[1;36m1\u001b[0m\u001b[1;33m)\u001b[0m\u001b[1;33m\u001b[0m\u001b[1;33m\u001b[0m\u001b[0m\n\u001b[0m",
      "\u001b[1;31mKeyboardInterrupt\u001b[0m: "
     ]
    }
   ],
   "source": [
    "import time\n",
    "\n",
    "while True:\n",
    "  localtime = time.localtime()\n",
    "  result = time.strftime(\"%I:%M:%S %p\", localtime)\n",
    "  print(result, end=\"\", flush=True)\n",
    "  print(\"\\r\", end=\"\", flush=True)\n",
    "  time.sleep(1)"
   ]
  },
  {
   "cell_type": "markdown",
   "metadata": {},
   "source": [
    "## Multithreading in Python"
   ]
  },
  {
   "cell_type": "markdown",
   "metadata": {},
   "source": [
    "Before talking about sleep() in multithreaded programs, let's talk about processes and threads.\n",
    "\n",
    "A computer program is a collection of instructions. A process is the execution of those instructions.\n",
    "\n",
    "A thread is a subset of the process. A process can have one or more threads."
   ]
  },
  {
   "cell_type": "markdown",
   "metadata": {},
   "source": [
    "> Python multithreading"
   ]
  },
  {
   "cell_type": "code",
   "execution_count": 11,
   "metadata": {},
   "outputs": [
    {
     "name": "stdout",
     "output_type": "stream",
     "text": [
      "HelloHi\n",
      "Hi\n",
      "Hi\n",
      "\n",
      "Hello\n",
      "Hello\n"
     ]
    }
   ],
   "source": [
    "import threading \n",
    "  \n",
    "def print_hello_three_times():\n",
    "    for i in range(3):\n",
    "        print(\"Hello\")\n",
    "  \n",
    "\n",
    "\n",
    "def print_hi_three_times():\n",
    "    for i in range(3):\n",
    "        print(\"Hi\")\n",
    "    \n",
    "t1 = threading.Thread(target=print_hello_three_times)  \n",
    "t2 = threading.Thread(target=print_hi_three_times)  \n",
    "\n",
    "t1.start()\n",
    "t2.start()"
   ]
  },
  {
   "cell_type": "markdown",
   "metadata": {},
   "source": [
    "The above program has two threads t1 and t2. These threads are run using t1.start() and t2.start() statements.\n",
    "Note that, t1 and t2 run concurrently and you might get different output."
   ]
  },
  {
   "cell_type": "markdown",
   "metadata": {},
   "source": [
    "## time.sleep() in multithreaded programs"
   ]
  },
  {
   "cell_type": "markdown",
   "metadata": {},
   "source": [
    "The sleep() function suspends execution of the current thread for a given number of seconds.\n",
    "\n",
    "In case of single-threaded programs, sleep() suspends execution of the thread and process. However, the function suspends a thread rather than the whole process in multithreaded programs."
   ]
  },
  {
   "cell_type": "code",
   "execution_count": 13,
   "metadata": {},
   "outputs": [
    {
     "name": "stdout",
     "output_type": "stream",
     "text": [
      "Hello\n",
      "Hi\n",
      "Hello\n",
      "Hi\n",
      "Hello\n",
      "Hello\n",
      "Hi\n",
      "Hi\n"
     ]
    }
   ],
   "source": [
    "import threading \n",
    "import time\n",
    "  \n",
    "def print_hello():\n",
    "    for i in range(4):\n",
    "        time.sleep(0.5)\n",
    "        print(\"Hello\")\n",
    "def print_hi(): \n",
    "    for i in range(4): \n",
    "        time.sleep(0.7)\n",
    "        print(\"Hi\") \n",
    "\n",
    "t1 = threading.Thread(target=print_hello)  \n",
    "t2 = threading.Thread(target=print_hi)  \n",
    "t1.start()\n",
    "t2.start()"
   ]
  },
  {
   "cell_type": "code",
   "execution_count": 18,
   "metadata": {},
   "outputs": [
    {
     "name": "stdout",
     "output_type": "stream",
     "text": [
      "0\n",
      "100\n",
      "1\n",
      "2\n",
      "3\n",
      "4\n",
      "101\n",
      "5\n",
      "6\n",
      "7\n",
      "8\n",
      "9\n",
      "102\n",
      "10\n"
     ]
    }
   ],
   "source": [
    "import time\n",
    "from threading import Thread\n",
    "\n",
    "class worker(Thread):\n",
    "    def run(self):\n",
    "        for x in range(0,11):\n",
    "            print(x)\n",
    "            time.sleep(1)\n",
    "\n",
    "class waiter(Thread):\n",
    "    def run(self):\n",
    "        for x in range(100,103):\n",
    "            print(x)\n",
    "            time.sleep(5)\n",
    "\n",
    "def run():\n",
    "    worker().start()\n",
    "    waiter().start()\n",
    "    \n",
    "run()"
   ]
  },
  {
   "cell_type": "code",
   "execution_count": null,
   "metadata": {},
   "outputs": [],
   "source": []
  }
 ],
 "metadata": {
  "kernelspec": {
   "display_name": "Python 3",
   "language": "python",
   "name": "python3"
  },
  "language_info": {
   "codemirror_mode": {
    "name": "ipython",
    "version": 3
   },
   "file_extension": ".py",
   "mimetype": "text/x-python",
   "name": "python",
   "nbconvert_exporter": "python",
   "pygments_lexer": "ipython3",
   "version": "3.7.3"
  }
 },
 "nbformat": 4,
 "nbformat_minor": 2
}

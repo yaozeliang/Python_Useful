{
 "cells": [
  {
   "cell_type": "markdown",
   "metadata": {},
   "source": [
    "Python 是支持面向对象的，很多情况下使用面向对象编程会使得代码更加容易扩展，并且可维护性更高，但是如果你写的多了或者某一对象非常复杂了，其中的一些写法会相当相当繁琐，而且我们会经常碰到对象和 JSON 序列化及反序列化的问题，原生的 Python 转起来还是很费劲的。\n",
    "\n",
    "可能这么说大家会觉得有点抽象，那么这里举几个例子来感受一下。\n",
    "\n",
    "首先让我们定义一个对象吧，比如颜色。我们常用 RGB 三个原色来表示颜色，R、G、B 分别代表红、绿、蓝三个颜色的数值，范围是 0-255，也就是每个原色有 256 个取值。如 RGB(0, 0, 0) 就代表黑色，RGB(255, 255, 255) 就代表白色，RGB(255, 0, 0) 就代表红色，如果不太明白可以具体看看 RGB 颜色的定义哈。\n",
    "\n",
    "好，那么我们现在如果想定义一个颜色对象，那么正常的写法就是这样了，创建这个对象的时候需要三个参数，就是 R、G、B 三个数值，定义如下："
   ]
  },
  {
   "cell_type": "code",
   "execution_count": 2,
   "metadata": {},
   "outputs": [],
   "source": [
    "class Color:\n",
    "    \"\"\"\n",
    "    Color Object of RGB\n",
    "    \"\"\"\n",
    "    def __init__(self, r, g, b):\n",
    "        self.r = r\n",
    "        self.g = g\n",
    "        self.b = b"
   ]
  },
  {
   "cell_type": "code",
   "execution_count": 3,
   "metadata": {},
   "outputs": [
    {
     "name": "stdout",
     "output_type": "stream",
     "text": [
      "<__main__.Color object at 0x000001C0C83C1898>\n"
     ]
    }
   ],
   "source": [
    "color = Color(255, 255, 255)\n",
    "print(color)"
   ]
  },
  {
   "cell_type": "markdown",
   "metadata": {},
   "source": [
    "我们知道，在 Python 里面想要定义某个对象本身的打印输出结果的时候，需要实现它的 __repr__ 方法，所以我们比如我们添加这么一个方法：\n",
    "\n",
    "```python\n",
    "def __repr__(self):\n",
    "    return f'{self.__class__.__name__}(r={self.r}, g={self.g}, b={self.b})'\n",
    "```"
   ]
  },
  {
   "cell_type": "code",
   "execution_count": 4,
   "metadata": {},
   "outputs": [],
   "source": [
    "class Color:\n",
    "    \"\"\"\n",
    "    Color Object of RGB\n",
    "    \"\"\"\n",
    "    def __init__(self, r, g, b):\n",
    "        self.r = r\n",
    "        self.g = g\n",
    "        self.b = b\n",
    "        \n",
    "    def __repr__(self):\n",
    "        return f'{self.__class__.__name__}(r={self.r}, g={self.g}, b={self.b})'"
   ]
  },
  {
   "cell_type": "code",
   "execution_count": 5,
   "metadata": {
    "scrolled": true
   },
   "outputs": [
    {
     "name": "stdout",
     "output_type": "stream",
     "text": [
      "Color(r=255, g=255, b=255)\n"
     ]
    }
   ],
   "source": [
    "color = Color(255, 255, 255)\n",
    "print(color)"
   ]
  },
  {
   "cell_type": "markdown",
   "metadata": {},
   "source": [
    "再继续，如果我们要想实现这个对象里面的 __eq__、__lt__ 等各种方法来实现对象之间的比较呢？照样需要继续定义成类似这样子的形式：\n",
    "```python\n",
    "def __lt__(self, other):\n",
    "    if not isinstance(other, self.__class__): return NotImplemented\n",
    "    return (self.r, self.g, self.b) < (other.r, other.g, other.b)\n",
    "\n",
    "```"
   ]
  },
  {
   "cell_type": "code",
   "execution_count": 9,
   "metadata": {},
   "outputs": [],
   "source": [
    "class Color:\n",
    "    \"\"\"\n",
    "    Color Object of RGB\n",
    "    \"\"\"\n",
    "    def __init__(self, r, g, b):\n",
    "        self.r = r\n",
    "        self.g = g\n",
    "        self.b = b\n",
    "        \n",
    "    def __repr__(self):\n",
    "        return f'{self.__class__.__name__}(r={self.r}, g={self.g}, b={self.b})'\n",
    "    \n",
    "    def __lt__(self, other):\n",
    "        if not isinstance(other, self.__class__): return NotImplemented\n",
    "        return (self.r, self.g, self.b) < (other.r, other.g, other.b)"
   ]
  },
  {
   "cell_type": "code",
   "execution_count": 10,
   "metadata": {},
   "outputs": [
    {
     "data": {
      "text/plain": [
       "True"
      ]
     },
     "execution_count": 10,
     "metadata": {},
     "output_type": "execute_result"
    }
   ],
   "source": [
    "c1 = Color(1, 255, 255)\n",
    "c2 = Color(255\n",
    "           , 255, 255)\n",
    "\n",
    "c1<c2\n"
   ]
  },
  {
   "cell_type": "markdown",
   "metadata": {},
   "source": [
    "首先我们来介绍下 attrs 这个库，其官方的介绍如下：\n",
    "\n",
    "    attrs 是这样的一个 Python 工具包，它能将你从繁综复杂的实现上解脱出来，享受编写 Python 类的快乐。它的目标就是在不减慢你编程速度的前提下，帮助你来编写简洁而又正确的代码。\n",
    "\n",
    "其实意思就是用了它，定义和实现 Python 类变得更加简洁和高效。"
   ]
  },
  {
   "cell_type": "markdown",
   "metadata": {},
   "source": [
    "首先明确一点，我们现在是装了 attrs 和 cattrs 这两个库，但是实际导入的时候是使用 attr 和 cattr 这两个包，是不带 s 的。\n",
    "\n",
    "在 attr 这个库里面有两个比较常用的组件叫做 attrs 和 attr，前者是主要用来修饰一个自定义类的，后者是定义类里面的一个字段的。有了它们，我们就可以将上文中的定义改写成下面的样子："
   ]
  },
  {
   "cell_type": "code",
   "execution_count": 13,
   "metadata": {},
   "outputs": [
    {
     "name": "stdout",
     "output_type": "stream",
     "text": [
      "Color(r=255, g=255, b=255)\n"
     ]
    }
   ],
   "source": [
    "from attr import attrs, attrib\n",
    "\n",
    "@attrs\n",
    "class Color(object):\n",
    "    r = attrib(type=int, default=0)\n",
    "    g = attrib(type=int, default=0)\n",
    "    b = attrib(type=int, default=0)\n",
    "\n",
    "if __name__ == '__main__':\n",
    "    color = Color(255, 255, 255)\n",
    "    print(color)"
   ]
  },
  {
   "cell_type": "markdown",
   "metadata": {},
   "source": [
    "观察一下有什么变化，是不是变得更简洁了？r、g、b 三个属性都只写了一次，同时还指定了各个字段的类型和默认值，另外也不需要再定义 __init__ 方法和 __repr__ 方法了，一切都显得那么简洁。一个字，爽！\n",
    "\n",
    "实际上，主要是 attrs 这个修饰符起了作用，然后根据定义的 attrib 属性自动帮我们实现了 __init__、__repr__、__eq__、__ne__、__lt__、__le__、__gt__、__ge__、__hash__ 这几个方法。\n",
    "\n",
    "如使用 attrs 修饰的类定义是这样子：\n",
    "\n",
    "```python\n",
    "from attr import attrs, attrib\n",
    "\n",
    "@attrs\n",
    "class SmartClass(object):\n",
    "    a = attrib()\n",
    "    b = attrib()\n",
    "```\n",
    "其实就相当于已经实现了这些方法：\n",
    "\n",
    "```python\n",
    "class RoughClass(object):\n",
    "    def __init__(self, a, b):\n",
    "        self.a = a\n",
    "        self.b = b\n",
    "\n",
    "    def __repr__(self):\n",
    "        return \"RoughClass(a={}, b={})\".format(self.a, self.b)\n",
    "\n",
    "    def __eq__(self, other):\n",
    "        if other.__class__ is self.__class__:\n",
    "            return (self.a, self.b) == (other.a, other.b)\n",
    "        else:\n",
    "            return NotImplemented\n",
    "\n",
    "    def __ne__(self, other):\n",
    "        result = self.__eq__(other)\n",
    "        if result is NotImplemented:\n",
    "            return NotImplemented\n",
    "        else:\n",
    "            return not result\n",
    "\n",
    "    def __lt__(self, other):\n",
    "        if other.__class__ is self.__class__:\n",
    "            return (self.a, self.b) < (other.a, other.b)\n",
    "        else:\n",
    "            return NotImplemented\n",
    "\n",
    "    def __le__(self, other):\n",
    "        if other.__class__ is self.__class__:\n",
    "            return (self.a, self.b) <= (other.a, other.b)\n",
    "        else:\n",
    "            return NotImplemented\n",
    "\n",
    "    def __gt__(self, other):\n",
    "        if other.__class__ is self.__class__:\n",
    "            return (self.a, self.b) > (other.a, other.b)\n",
    "        else:\n",
    "            return NotImplemented\n",
    "\n",
    "    def __ge__(self, other):\n",
    "        if other.__class__ is self.__class__:\n",
    "            return (self.a, self.b) >= (other.a, other.b)\n",
    "        else:\n",
    "            return NotImplemented\n",
    "\n",
    "    def __hash__(self):\n",
    "        return hash((self.__class__, self.a, self.b))\n",
    "\n",
    "```\n",
    "\n"
   ]
  },
  {
   "cell_type": "markdown",
   "metadata": {},
   "source": [
    "首先库的名字就叫做 attrs，这个就是装 Python 包的时候这么装就行了。但是库的名字和导入的包的名字确实是不一样的，我们用的时候就导入 attr 这个包就行了，里面包含了各种各样的模块和组件，这是完全固定的。\n",
    "\n",
    "好，然后接下来看看 attr 包里面包含了什么，刚才我们引入了 attrs 和 attrib。\n",
    "\n",
    "首先是 attrs，它主要是用来修饰 class 类的，而 attrib 主要是用来做属性定义的，这个就记住它们两个的用法就好了。\n",
    "\n",
    "翻了一下源代码，发现其实它还有一些别名：\n",
    "\n",
    "```python\n",
    "s = attributes = attrs\n",
    "ib = attr = attrib\n",
    "\n",
    "```\n",
    "也就是说，attrs 可以用 s 或 attributes 来代替，attrib 可以用 attr 或 ib 来代替。\n",
    "\n",
    "既然是别名，那么上面的类就可以改写成下面的样子："
   ]
  },
  {
   "cell_type": "code",
   "execution_count": 18,
   "metadata": {},
   "outputs": [
    {
     "name": "stdout",
     "output_type": "stream",
     "text": [
      "Color(r=255, g=255, b=255)\n"
     ]
    }
   ],
   "source": [
    "from attr import s, ib\n",
    "\n",
    "@s\n",
    "class Color(object):\n",
    "    r = ib(type=int, default=0)\n",
    "    g = ib(type=int, default=0)\n",
    "    b = ib(type=int, default=0)\n",
    "\n",
    "if __name__ == '__main__':\n",
    "    color = Color(255, 255, 255)\n",
    "    print(color)"
   ]
  },
  {
   "cell_type": "markdown",
   "metadata": {},
   "source": [
    "不是更加简洁了，当然你也可以把 s 改写为 attributes，ib 改写为 attr，随你怎么用啦。\n",
    "\n",
    "不过我觉得比较舒服的是 attrs 和 attrib 的搭配，感觉可读性更好一些，当然这个看个人喜好。\n",
    "\n",
    "所以总结一下：\n",
    "\n",
    "    - 库名：attrs\n",
    "\n",
    "    - 导入包名：attr\n",
    "\n",
    "    - 修饰类：s 或 attributes 或 attrs\n",
    "\n",
    "    - 定义属性：ib 或 attr 或 attrib\n",
    "\n",
    "OK，理清了这几部分内容，我们继续往下深入了解它的用法吧。"
   ]
  },
  {
   "cell_type": "code",
   "execution_count": 20,
   "metadata": {},
   "outputs": [],
   "source": [
    "from attr import attrs, attrib\n",
    "\n",
    "@attrs\n",
    "class Point(object):\n",
    "    x = attrib()\n",
    "    y = attrib()"
   ]
  },
  {
   "cell_type": "markdown",
   "metadata": {},
   "source": [
    "其中 attrib 里面什么参数都没有，如果我们要使用的话，参数可以顺次指定，也可以根据名字指定，如："
   ]
  },
  {
   "cell_type": "code",
   "execution_count": 21,
   "metadata": {},
   "outputs": [
    {
     "name": "stdout",
     "output_type": "stream",
     "text": [
      "Point(x=1, y=2)\n"
     ]
    }
   ],
   "source": [
    "p1 = Point(1, 2)\n",
    "print(p1)"
   ]
  },
  {
   "cell_type": "code",
   "execution_count": 22,
   "metadata": {},
   "outputs": [
    {
     "name": "stdout",
     "output_type": "stream",
     "text": [
      "Point(x=1, y=2)\n"
     ]
    }
   ],
   "source": [
    "p2 = Point(x=1, y=2)\n",
    "print(p2)"
   ]
  },
  {
   "cell_type": "markdown",
   "metadata": {},
   "source": [
    "OK，接下来让我们再验证下类之间的比较方法，由于使用了 attrs，相当于我们定义的类已经有了 __eq__、__ne__、__lt__、__le__、__gt__、__ge__ 这几个方法，所以我们可以直接使用比较符来对类和类之间进行比较，下面我们用实例来感受一下："
   ]
  },
  {
   "cell_type": "code",
   "execution_count": 23,
   "metadata": {},
   "outputs": [
    {
     "name": "stdout",
     "output_type": "stream",
     "text": [
      "Equal: True\n",
      "Not Equal(ne): True\n",
      "Less Than(lt): True\n",
      "Less or Equal(le): True True\n",
      "Greater Than(gt): True True\n",
      "Greater or Equal(ge): True\n"
     ]
    }
   ],
   "source": [
    "print('Equal:', Point(1, 2) == Point(1, 2))\n",
    "print('Not Equal(ne):', Point(1, 2) != Point(3, 4))\n",
    "print('Less Than(lt):', Point(1, 2) < Point(3, 4))\n",
    "print('Less or Equal(le):', Point(1, 2) <= Point(1, 4), Point(1, 2) <= Point(1, 2))\n",
    "print('Greater Than(gt):', Point(4, 2) > Point(3, 2), Point(4, 2) > Point(3, 1))\n",
    "print('Greater or Equal(ge):', Point(4, 2) >= Point(4, 1))"
   ]
  },
  {
   "cell_type": "markdown",
   "metadata": {},
   "source": [
    "可能有的朋友不知道 ne、lt、le 什么的是什么意思，不过看到这里你应该明白啦，ne 就是 Not Equal 的意思，就是不相等，le 就是 Less or Equal 的意思，就是小于或等于。\n",
    "\n",
    "其内部怎么实现的呢，就是把类的各个属性转成元组来比较了，比如 Point(1, 2) < Point(3, 4) 实际上就是比较了 (1, 2) 和 (3, 4) 两个元组，那么元组之间的比较逻辑又是怎样的呢，这里就不展开了，如果不明白的话可以参考官方文档：https://docs.python.org/3/library/stdtypes.html#comparisons。"
   ]
  },
  {
   "cell_type": "markdown",
   "metadata": {},
   "source": [
    "## 属性定义"
   ]
  },
  {
   "cell_type": "markdown",
   "metadata": {},
   "source": [
    "现在看来，对于这个类的定义莫过于每个属性的定义了，也就是 attrib 的定义。对于 attrib 的定义，我们可以传入各种参数，不同的参数对于这个类的定义有非常大的影响。\n",
    "\n",
    "下面我们就来详细了解一下每个属性的具体参数和用法吧。\n",
    "\n",
    "首先让我们概览一下总共可能有多少可以控制一个属性的参数，我们用 attrs 里面的 fields 方法可以查看一下："
   ]
  },
  {
   "cell_type": "code",
   "execution_count": 24,
   "metadata": {},
   "outputs": [
    {
     "name": "stdout",
     "output_type": "stream",
     "text": [
      "(Attribute(name='x', default=NOTHING, validator=None, repr=True, cmp=True, hash=None, init=True, metadata=mappingproxy({}), type=None, converter=None, kw_only=False), Attribute(name='y', default=NOTHING, validator=None, repr=True, cmp=True, hash=None, init=True, metadata=mappingproxy({}), type=None, converter=None, kw_only=False))\n"
     ]
    }
   ],
   "source": [
    "from attr import attrs, attrib, fields\n",
    "\n",
    "@attrs\n",
    "class Point(object):\n",
    "    x = attrib()\n",
    "    y = attrib()\n",
    "\n",
    "print(fields(Point))"
   ]
  },
  {
   "cell_type": "markdown",
   "metadata": {},
   "source": [
    "    name：属性的名字，是一个字符串类型。\n",
    "\n",
    "    default：属性的默认值，如果没有传入初始化数据，那么就会使用默认值。如果没有默认值定义，那么就是 NOTHING，即没有默认值。\n",
    "\n",
    "    validator：验证器，检查传入的参数是否合法。\n",
    "\n",
    "    init：是否参与初始化，如果为 False，那么这个参数不能当做类的初始化参数，默认是 True。\n",
    "\n",
    "    metadata：元数据，只读性的附加数据。\n",
    "\n",
    "    type：类型，比如 int、str 等各种类型，默认为 None。\n",
    "\n",
    "    converter：转换器，进行一些值的处理和转换器，增加容错性。\n",
    "\n",
    "    kw_only：是否为强制关键字参数，默认为 False。"
   ]
  },
  {
   "cell_type": "markdown",
   "metadata": {},
   "source": [
    "## 属性名"
   ]
  },
  {
   "cell_type": "markdown",
   "metadata": {},
   "source": [
    "x = attrib()"
   ]
  },
  {
   "cell_type": "markdown",
   "metadata": {},
   "source": [
    "那么其属性名就是 x。"
   ]
  },
  {
   "cell_type": "markdown",
   "metadata": {},
   "source": [
    "## 默认值"
   ]
  },
  {
   "cell_type": "markdown",
   "metadata": {},
   "source": [
    "对于默认值，如果在初始化的时候没有指定，那么就会默认使用默认值进行初始化，我们看下面的一个实例："
   ]
  },
  {
   "cell_type": "code",
   "execution_count": 25,
   "metadata": {},
   "outputs": [
    {
     "name": "stdout",
     "output_type": "stream",
     "text": [
      "Point(x=1, y=3)\n",
      "Point(x=1, y=100)\n"
     ]
    }
   ],
   "source": [
    "from attr import attrs, attrib, fields\n",
    "\n",
    "@attrs\n",
    "class Point(object):\n",
    "    x = attrib()\n",
    "    y = attrib(default=100)\n",
    "\n",
    "if __name__ == '__main__':\n",
    "    print(Point(x=1, y=3))\n",
    "    print(Point(x=1))"
   ]
  },
  {
   "cell_type": "markdown",
   "metadata": {},
   "source": [
    "在这里我们将 y 属性的默认值设置为了 100，在初始化的时候，第一次都传入了 x、y 两个参数，第二次只传入了 x 这个参数，看下运行结果："
   ]
  },
  {
   "cell_type": "markdown",
   "metadata": {},
   "source": [
    "## 初始化"
   ]
  },
  {
   "cell_type": "markdown",
   "metadata": {},
   "source": [
    "如果一个类的某些属性不想参与初始化，比如想直接设置一个初始值，一直固定不变，我们可以将属性的 init 参数设置为 False，看一个实例："
   ]
  },
  {
   "cell_type": "code",
   "execution_count": 26,
   "metadata": {},
   "outputs": [
    {
     "name": "stdout",
     "output_type": "stream",
     "text": [
      "Point(x=10, y=3)\n"
     ]
    }
   ],
   "source": [
    "from attr import attrs, attrib\n",
    "\n",
    "@attrs\n",
    "class Point(object):\n",
    "    x = attrib(init=False, default=10)\n",
    "    y = attrib()\n",
    "\n",
    "if __name__ == '__main__':\n",
    "    print(Point(3))"
   ]
  },
  {
   "cell_type": "markdown",
   "metadata": {},
   "source": [
    "没什么问题，y 被赋值为了我们设置的值 3。\n",
    "\n",
    "那假如我们非要设置 x 呢？会发生什么，比如改写成这样子："
   ]
  },
  {
   "cell_type": "code",
   "execution_count": 27,
   "metadata": {},
   "outputs": [
    {
     "ename": "TypeError",
     "evalue": "__init__() takes 2 positional arguments but 3 were given",
     "output_type": "error",
     "traceback": [
      "\u001b[1;31m---------------------------------------------------------------------------\u001b[0m",
      "\u001b[1;31mTypeError\u001b[0m                                 Traceback (most recent call last)",
      "\u001b[1;32m<ipython-input-27-929455b9057b>\u001b[0m in \u001b[0;36m<module>\u001b[1;34m\u001b[0m\n\u001b[1;32m----> 1\u001b[1;33m \u001b[0mPoint\u001b[0m\u001b[1;33m(\u001b[0m\u001b[1;36m1\u001b[0m\u001b[1;33m,\u001b[0m \u001b[1;36m2\u001b[0m\u001b[1;33m)\u001b[0m\u001b[1;33m\u001b[0m\u001b[1;33m\u001b[0m\u001b[0m\n\u001b[0m",
      "\u001b[1;31mTypeError\u001b[0m: __init__() takes 2 positional arguments but 3 were given"
     ]
    }
   ],
   "source": [
    "Point(1, 2)"
   ]
  },
  {
   "cell_type": "markdown",
   "metadata": {},
   "source": [
    "## 强制关键字"
   ]
  },
  {
   "cell_type": "markdown",
   "metadata": {},
   "source": [
    "强制关键字是 Python 里面的一个特性，在传入的时候必须使用关键字的名字来传入，如果不太理解可以再了解下 Python 的基础。\n",
    "\n",
    "设置了强制关键字参数的属性必须要放在后面，其后面不能再有非强制关键字参数的属性，否则会报这样的错误："
   ]
  },
  {
   "cell_type": "markdown",
   "metadata": {},
   "source": [
    "我们来看一个例子，我们将最后一个属性设置 kw_only 参数为 True："
   ]
  },
  {
   "cell_type": "code",
   "execution_count": 28,
   "metadata": {},
   "outputs": [
    {
     "name": "stdout",
     "output_type": "stream",
     "text": [
      "Point(x=1, y=3)\n"
     ]
    }
   ],
   "source": [
    "from attr import attrs, attrib, fields\n",
    "\n",
    "@attrs\n",
    "class Point(object):\n",
    "    x = attrib(default=0)\n",
    "    y = attrib(kw_only=True)\n",
    "\n",
    "if __name__ == '__main__':\n",
    "    print(Point(1, y=3))"
   ]
  },
  {
   "cell_type": "markdown",
   "metadata": {},
   "source": [
    "如果没有指定 y 这个名字，像这样调用：\n",
    "```\n",
    "Point(1, 3)\n",
    "```\n",
    "那么就会报错：\n",
    "\n",
    "```python\n",
    "TypeError: __init__() takes from 1 to 2 positional arguments but 3 were given\n",
    "```\n"
   ]
  },
  {
   "cell_type": "markdown",
   "metadata": {},
   "source": [
    "所以，这个参数就是设置初始化传参必须要用名字来传，否则会出现错误。\n",
    "\n",
    "注意，如果我们将一个属性设置了 init 为 False，那么 kw_only 这个参数会被忽略。"
   ]
  },
  {
   "cell_type": "markdown",
   "metadata": {},
   "source": [
    "## 验证器"
   ]
  },
  {
   "cell_type": "markdown",
   "metadata": {},
   "source": [
    "有时候在设置一个属性的时候必须要满足某个条件，比如性别必须要是男或者女，否则就不合法。对于这种情况，我们就需要有条件来控制某些属性不能为非法值。下面我们看一个实例："
   ]
  },
  {
   "cell_type": "code",
   "execution_count": 32,
   "metadata": {},
   "outputs": [
    {
     "name": "stdout",
     "output_type": "stream",
     "text": [
      "Person(name='Mike', gender='male')\n"
     ]
    }
   ],
   "source": [
    "from attr import attrs, attrib\n",
    "\n",
    "def is_valid_gender(instance, attribute, value):\n",
    "    if value not in ['male', 'female']:\n",
    "        raise ValueError(f'gender {value} is not valid')\n",
    "\n",
    "@attrs\n",
    "class Person(object):\n",
    "    name = attrib()\n",
    "    gender = attrib(validator=is_valid_gender)\n",
    "\n",
    "if __name__ == '__main__':\n",
    "    print(Person(name='Mike', gender='male'))\n",
    "    # ValueError \n",
    "    # print(Person(name='Mike', gender='mlae'))  # ValueError"
   ]
  },
  {
   "cell_type": "markdown",
   "metadata": {},
   "source": [
    "在这里我们定义了一个验证器 Validator 方法，叫做 is_valid_gender。然后定义了一个类 Person 还有它的两个属性 name 和 gender，其中 gender 定义的时候传入了一个参数 validator，其值就是我们定义的 Validator 方法。\n",
    "\n",
    "这个 Validator 定义的时候有几个固定的参数：\n",
    "\n",
    "    instance：类对象\n",
    "\n",
    "    attribute：属性名\n",
    "\n",
    "    value：属性值"
   ]
  },
  {
   "cell_type": "markdown",
   "metadata": {},
   "source": [
    "这是三个参数是固定的，在类初始化的时候，其内部会将这三个参数传递给这个 Validator，因此 Validator 里面就可以接受到这三个值，然后进行判断即可。在 Validator 里面，我们判断如果不是男性或女性，那么就直接抛出错误。"
   ]
  },
  {
   "cell_type": "markdown",
   "metadata": {},
   "source": [
    "下面做了两个实验，一个就是正常传入 male，另一个写错了，写的是 mlae，观察下运行结果："
   ]
  },
  {
   "cell_type": "code",
   "execution_count": 33,
   "metadata": {},
   "outputs": [
    {
     "data": {
      "text/plain": [
       "Person(name='Mike', gender='male')"
      ]
     },
     "execution_count": 33,
     "metadata": {},
     "output_type": "execute_result"
    }
   ],
   "source": [
    "Person(name='Mike', gender='male')"
   ]
  },
  {
   "cell_type": "code",
   "execution_count": 35,
   "metadata": {},
   "outputs": [
    {
     "ename": "ValueError",
     "evalue": "gender m is not valid",
     "output_type": "error",
     "traceback": [
      "\u001b[1;31m---------------------------------------------------------------------------\u001b[0m",
      "\u001b[1;31mValueError\u001b[0m                                Traceback (most recent call last)",
      "\u001b[1;32m<ipython-input-35-1d9012ef554c>\u001b[0m in \u001b[0;36m<module>\u001b[1;34m\u001b[0m\n\u001b[1;32m----> 1\u001b[1;33m \u001b[0mPerson\u001b[0m\u001b[1;33m(\u001b[0m\u001b[0mname\u001b[0m\u001b[1;33m=\u001b[0m\u001b[1;34m'Mike'\u001b[0m\u001b[1;33m,\u001b[0m \u001b[0mgender\u001b[0m\u001b[1;33m=\u001b[0m\u001b[1;34m'm'\u001b[0m\u001b[1;33m)\u001b[0m\u001b[1;33m\u001b[0m\u001b[1;33m\u001b[0m\u001b[0m\n\u001b[0m",
      "\u001b[1;32m<attrs generated init cdcdeeace25ff70268b7f1168384d85230232ebd>\u001b[0m in \u001b[0;36m__init__\u001b[1;34m(self, name, gender)\u001b[0m\n\u001b[0;32m      3\u001b[0m     \u001b[0mself\u001b[0m\u001b[1;33m.\u001b[0m\u001b[0mgender\u001b[0m \u001b[1;33m=\u001b[0m \u001b[0mgender\u001b[0m\u001b[1;33m\u001b[0m\u001b[1;33m\u001b[0m\u001b[0m\n\u001b[0;32m      4\u001b[0m     \u001b[1;32mif\u001b[0m \u001b[0m_config\u001b[0m\u001b[1;33m.\u001b[0m\u001b[0m_run_validators\u001b[0m \u001b[1;32mis\u001b[0m \u001b[1;32mTrue\u001b[0m\u001b[1;33m:\u001b[0m\u001b[1;33m\u001b[0m\u001b[1;33m\u001b[0m\u001b[0m\n\u001b[1;32m----> 5\u001b[1;33m         \u001b[0m__attr_validator_gender\u001b[0m\u001b[1;33m(\u001b[0m\u001b[0mself\u001b[0m\u001b[1;33m,\u001b[0m \u001b[0m__attr_gender\u001b[0m\u001b[1;33m,\u001b[0m \u001b[0mself\u001b[0m\u001b[1;33m.\u001b[0m\u001b[0mgender\u001b[0m\u001b[1;33m)\u001b[0m\u001b[1;33m\u001b[0m\u001b[1;33m\u001b[0m\u001b[0m\n\u001b[0m",
      "\u001b[1;32m<ipython-input-32-20c1c247f3d1>\u001b[0m in \u001b[0;36mis_valid_gender\u001b[1;34m(instance, attribute, value)\u001b[0m\n\u001b[0;32m      3\u001b[0m \u001b[1;32mdef\u001b[0m \u001b[0mis_valid_gender\u001b[0m\u001b[1;33m(\u001b[0m\u001b[0minstance\u001b[0m\u001b[1;33m,\u001b[0m \u001b[0mattribute\u001b[0m\u001b[1;33m,\u001b[0m \u001b[0mvalue\u001b[0m\u001b[1;33m)\u001b[0m\u001b[1;33m:\u001b[0m\u001b[1;33m\u001b[0m\u001b[1;33m\u001b[0m\u001b[0m\n\u001b[0;32m      4\u001b[0m     \u001b[1;32mif\u001b[0m \u001b[0mvalue\u001b[0m \u001b[1;32mnot\u001b[0m \u001b[1;32min\u001b[0m \u001b[1;33m[\u001b[0m\u001b[1;34m'male'\u001b[0m\u001b[1;33m,\u001b[0m \u001b[1;34m'female'\u001b[0m\u001b[1;33m]\u001b[0m\u001b[1;33m:\u001b[0m\u001b[1;33m\u001b[0m\u001b[1;33m\u001b[0m\u001b[0m\n\u001b[1;32m----> 5\u001b[1;33m         \u001b[1;32mraise\u001b[0m \u001b[0mValueError\u001b[0m\u001b[1;33m(\u001b[0m\u001b[1;34mf'gender {value} is not valid'\u001b[0m\u001b[1;33m)\u001b[0m\u001b[1;33m\u001b[0m\u001b[1;33m\u001b[0m\u001b[0m\n\u001b[0m\u001b[0;32m      6\u001b[0m \u001b[1;33m\u001b[0m\u001b[0m\n\u001b[0;32m      7\u001b[0m \u001b[1;33m@\u001b[0m\u001b[0mattrs\u001b[0m\u001b[1;33m\u001b[0m\u001b[1;33m\u001b[0m\u001b[0m\n",
      "\u001b[1;31mValueError\u001b[0m: gender m is not valid"
     ]
    }
   ],
   "source": [
    "Person(name='Mike', gender='m')"
   ]
  },
  {
   "cell_type": "markdown",
   "metadata": {},
   "source": [
    "OK，结果显而易见了，第二个报错了，因为其值不是正常的性别，所以程序直接报错终止。\n",
    "\n",
    "注意在 Validator 里面返回 True 或 False 是没用的，错误的值还会被照常复制。所以，一定要在 Validator 里面 raise 某个错误。"
   ]
  },
  {
   "cell_type": "markdown",
   "metadata": {},
   "source": [
    "另外 attrs 库里面还给我们内置了好多 Validator，比如判断类型，这里我们再增加一个属性 age，必须为 int 类型：\n",
    "\n",
    "```python\n",
    "age = attrib(validator=validators.instance_of(int))\n",
    "```\n",
    "\n",
    "\n",
    "这时候初始化的时候就必须传入 int 类型，如果为其他类型，则直接抛错：\n",
    "\n",
    "```python\n",
    "\n",
    "TypeError: (\"'age' must be <class 'int'> (got 'x' that is a <class 'str'>).\n",
    "```\n",
    "\n",
    "另外还有其他的一些 Validator，比如与或运算、可执行判断、可迭代判断等等，可以参考官方文档：https://www.attrs.org/en/stable/api.html#validators。\n",
    "\n"
   ]
  },
  {
   "cell_type": "markdown",
   "metadata": {},
   "source": [
    "另外 validator 参数还支持多个 Validator，比如我们要设置既要是数字，又要小于 100，那么可以把几个 Validator 放到一个列表里面并传入："
   ]
  },
  {
   "cell_type": "code",
   "execution_count": 36,
   "metadata": {},
   "outputs": [
    {
     "ename": "ValueError",
     "evalue": "age 500 must less than 100",
     "output_type": "error",
     "traceback": [
      "\u001b[1;31m---------------------------------------------------------------------------\u001b[0m",
      "\u001b[1;31mValueError\u001b[0m                                Traceback (most recent call last)",
      "\u001b[1;32m<ipython-input-36-fa5e192ed5af>\u001b[0m in \u001b[0;36m<module>\u001b[1;34m\u001b[0m\n\u001b[0;32m     12\u001b[0m \u001b[1;33m\u001b[0m\u001b[0m\n\u001b[0;32m     13\u001b[0m \u001b[1;32mif\u001b[0m \u001b[0m__name__\u001b[0m \u001b[1;33m==\u001b[0m \u001b[1;34m'__main__'\u001b[0m\u001b[1;33m:\u001b[0m\u001b[1;33m\u001b[0m\u001b[1;33m\u001b[0m\u001b[0m\n\u001b[1;32m---> 14\u001b[1;33m     \u001b[0mprint\u001b[0m\u001b[1;33m(\u001b[0m\u001b[0mPerson\u001b[0m\u001b[1;33m(\u001b[0m\u001b[0mname\u001b[0m\u001b[1;33m=\u001b[0m\u001b[1;34m'Mike'\u001b[0m\u001b[1;33m,\u001b[0m \u001b[0mgender\u001b[0m\u001b[1;33m=\u001b[0m\u001b[1;34m'male'\u001b[0m\u001b[1;33m,\u001b[0m \u001b[0mage\u001b[0m\u001b[1;33m=\u001b[0m\u001b[1;36m500\u001b[0m\u001b[1;33m)\u001b[0m\u001b[1;33m)\u001b[0m\u001b[1;33m\u001b[0m\u001b[1;33m\u001b[0m\u001b[0m\n\u001b[0m",
      "\u001b[1;32m<attrs generated init 9f5a0a8fcf35120f0f17a4b96572a8504c6232f3>\u001b[0m in \u001b[0;36m__init__\u001b[1;34m(self, name, gender, age)\u001b[0m\n\u001b[0;32m      5\u001b[0m     \u001b[1;32mif\u001b[0m \u001b[0m_config\u001b[0m\u001b[1;33m.\u001b[0m\u001b[0m_run_validators\u001b[0m \u001b[1;32mis\u001b[0m \u001b[1;32mTrue\u001b[0m\u001b[1;33m:\u001b[0m\u001b[1;33m\u001b[0m\u001b[1;33m\u001b[0m\u001b[0m\n\u001b[0;32m      6\u001b[0m         \u001b[0m__attr_validator_gender\u001b[0m\u001b[1;33m(\u001b[0m\u001b[0mself\u001b[0m\u001b[1;33m,\u001b[0m \u001b[0m__attr_gender\u001b[0m\u001b[1;33m,\u001b[0m \u001b[0mself\u001b[0m\u001b[1;33m.\u001b[0m\u001b[0mgender\u001b[0m\u001b[1;33m)\u001b[0m\u001b[1;33m\u001b[0m\u001b[1;33m\u001b[0m\u001b[0m\n\u001b[1;32m----> 7\u001b[1;33m         \u001b[0m__attr_validator_age\u001b[0m\u001b[1;33m(\u001b[0m\u001b[0mself\u001b[0m\u001b[1;33m,\u001b[0m \u001b[0m__attr_age\u001b[0m\u001b[1;33m,\u001b[0m \u001b[0mself\u001b[0m\u001b[1;33m.\u001b[0m\u001b[0mage\u001b[0m\u001b[1;33m)\u001b[0m\u001b[1;33m\u001b[0m\u001b[1;33m\u001b[0m\u001b[0m\n\u001b[0m",
      "\u001b[1;32m~\\Anaconda3\\lib\\site-packages\\attr\\_make.py\u001b[0m in \u001b[0;36m__call__\u001b[1;34m(self, inst, attr, value)\u001b[0m\n\u001b[0;32m   2062\u001b[0m     \u001b[1;32mdef\u001b[0m \u001b[0m__call__\u001b[0m\u001b[1;33m(\u001b[0m\u001b[0mself\u001b[0m\u001b[1;33m,\u001b[0m \u001b[0minst\u001b[0m\u001b[1;33m,\u001b[0m \u001b[0mattr\u001b[0m\u001b[1;33m,\u001b[0m \u001b[0mvalue\u001b[0m\u001b[1;33m)\u001b[0m\u001b[1;33m:\u001b[0m\u001b[1;33m\u001b[0m\u001b[1;33m\u001b[0m\u001b[0m\n\u001b[0;32m   2063\u001b[0m         \u001b[1;32mfor\u001b[0m \u001b[0mv\u001b[0m \u001b[1;32min\u001b[0m \u001b[0mself\u001b[0m\u001b[1;33m.\u001b[0m\u001b[0m_validators\u001b[0m\u001b[1;33m:\u001b[0m\u001b[1;33m\u001b[0m\u001b[1;33m\u001b[0m\u001b[0m\n\u001b[1;32m-> 2064\u001b[1;33m             \u001b[0mv\u001b[0m\u001b[1;33m(\u001b[0m\u001b[0minst\u001b[0m\u001b[1;33m,\u001b[0m \u001b[0mattr\u001b[0m\u001b[1;33m,\u001b[0m \u001b[0mvalue\u001b[0m\u001b[1;33m)\u001b[0m\u001b[1;33m\u001b[0m\u001b[1;33m\u001b[0m\u001b[0m\n\u001b[0m\u001b[0;32m   2065\u001b[0m \u001b[1;33m\u001b[0m\u001b[0m\n\u001b[0;32m   2066\u001b[0m \u001b[1;33m\u001b[0m\u001b[0m\n",
      "\u001b[1;32m<ipython-input-36-fa5e192ed5af>\u001b[0m in \u001b[0;36mis_less_than_100\u001b[1;34m(instance, attribute, value)\u001b[0m\n\u001b[0;32m      3\u001b[0m \u001b[1;32mdef\u001b[0m \u001b[0mis_less_than_100\u001b[0m\u001b[1;33m(\u001b[0m\u001b[0minstance\u001b[0m\u001b[1;33m,\u001b[0m \u001b[0mattribute\u001b[0m\u001b[1;33m,\u001b[0m \u001b[0mvalue\u001b[0m\u001b[1;33m)\u001b[0m\u001b[1;33m:\u001b[0m\u001b[1;33m\u001b[0m\u001b[1;33m\u001b[0m\u001b[0m\n\u001b[0;32m      4\u001b[0m     \u001b[1;32mif\u001b[0m \u001b[0mvalue\u001b[0m \u001b[1;33m>\u001b[0m \u001b[1;36m100\u001b[0m\u001b[1;33m:\u001b[0m\u001b[1;33m\u001b[0m\u001b[1;33m\u001b[0m\u001b[0m\n\u001b[1;32m----> 5\u001b[1;33m         \u001b[1;32mraise\u001b[0m \u001b[0mValueError\u001b[0m\u001b[1;33m(\u001b[0m\u001b[1;34mf'age {value} must less than 100'\u001b[0m\u001b[1;33m)\u001b[0m\u001b[1;33m\u001b[0m\u001b[1;33m\u001b[0m\u001b[0m\n\u001b[0m\u001b[0;32m      6\u001b[0m \u001b[1;33m\u001b[0m\u001b[0m\n\u001b[0;32m      7\u001b[0m \u001b[1;33m@\u001b[0m\u001b[0mattrs\u001b[0m\u001b[1;33m\u001b[0m\u001b[1;33m\u001b[0m\u001b[0m\n",
      "\u001b[1;31mValueError\u001b[0m: age 500 must less than 100"
     ]
    }
   ],
   "source": [
    "from attr import attrs, attrib, validators\n",
    "\n",
    "def is_less_than_100(instance, attribute, value):\n",
    "    if value > 100:\n",
    "        raise ValueError(f'age {value} must less than 100')\n",
    "\n",
    "@attrs\n",
    "class Person(object):\n",
    "    name = attrib()\n",
    "    gender = attrib(validator=is_valid_gender)\n",
    "    age = attrib(validator=[validators.instance_of(int), is_less_than_100])\n",
    "\n",
    "if __name__ == '__main__':\n",
    "    print(Person(name='Mike', gender='male', age=500))"
   ]
  },
  {
   "cell_type": "markdown",
   "metadata": {},
   "source": [
    "## 转换器"
   ]
  },
  {
   "cell_type": "markdown",
   "metadata": {},
   "source": [
    "其实很多时候我们会不小心传入一些形式不太标准的结果，比如本来是 int 类型的 100，我们传入了字符串类型的 100，那这时候直接抛错应该不好吧，所以我们可以设置一些转换器来增强容错机制，比如将字符串自动转为数字等等，看一个实例："
   ]
  },
  {
   "cell_type": "code",
   "execution_count": 38,
   "metadata": {},
   "outputs": [
    {
     "name": "stdout",
     "output_type": "stream",
     "text": [
      "Point(x=100, y=3)\n"
     ]
    }
   ],
   "source": [
    "from attr import attrs, attrib\n",
    "\n",
    "def to_int(value):\n",
    "    try:\n",
    "        return int(value)\n",
    "    except:\n",
    "        return None\n",
    "\n",
    "@attrs\n",
    "class Point(object):\n",
    "    x = attrib(converter=to_int)\n",
    "    y = attrib()\n",
    "\n",
    "if __name__ == '__main__':\n",
    "    print(Point('100', 3))"
   ]
  },
  {
   "cell_type": "markdown",
   "metadata": {},
   "source": [
    "## 类型"
   ]
  },
  {
   "cell_type": "markdown",
   "metadata": {},
   "source": [
    "为什么把这个放到最后来讲呢，因为 Python 中的类型是非常复杂的，有原生类型，有 typing 类型，有自定义类的类型。\n",
    "\n",
    "首先我们来看看原生类型是怎样的，这个很容易理解了，就是普通的 int、float、str 等类型，其定义如下："
   ]
  },
  {
   "cell_type": "code",
   "execution_count": 39,
   "metadata": {},
   "outputs": [
    {
     "name": "stdout",
     "output_type": "stream",
     "text": [
      "Point(x=100, y=3)\n",
      "Point(x='100', y=3)\n"
     ]
    }
   ],
   "source": [
    "from attr import attrs, attrib\n",
    "\n",
    "@attrs\n",
    "class Point(object):\n",
    "    x = attrib(type=int)\n",
    "    y = attrib()\n",
    "\n",
    "if __name__ == '__main__':\n",
    "    print(Point(100, 3))\n",
    "    print(Point('100', 3))"
   ]
  },
  {
   "cell_type": "markdown",
   "metadata": {},
   "source": [
    "但我们发现，虽然定义了，但是不会被自动转类型的。\n",
    "\n",
    "另外我们还可以自定义 typing 里面的类型，比如 List，另外 attrs 里面也提供了类型的定义："
   ]
  },
  {
   "cell_type": "code",
   "execution_count": 40,
   "metadata": {},
   "outputs": [],
   "source": [
    "from attr import attrs, attrib, Factory\n",
    "import typing\n",
    "\n",
    "@attrs\n",
    "class Point(object):\n",
    "    x = attrib(type=int)\n",
    "    y = attrib(type=typing.List[int])\n",
    "    z = attrib(type=Factory(list))"
   ]
  },
  {
   "cell_type": "markdown",
   "metadata": {},
   "source": [
    "在这里我们定义了 Point 类代表离散点，随后定义了线，其拥有 points 属性是 Point 组成的列表。在初始化的时候我们声明了五个点，然后用这五个点组成的列表声明了一条线，逻辑没什么问题。\n",
    "\n",
    "运行结果："
   ]
  },
  {
   "cell_type": "code",
   "execution_count": 41,
   "metadata": {},
   "outputs": [
    {
     "name": "stdout",
     "output_type": "stream",
     "text": [
      "[Point(x=0, y=0), Point(x=1, y=1), Point(x=2, y=2), Point(x=3, y=3), Point(x=4, y=4)]\n",
      "Line(name='line1', points=[Point(x=0, y=0), Point(x=1, y=1), Point(x=2, y=2), Point(x=3, y=3), Point(x=4, y=4)])\n"
     ]
    }
   ],
   "source": [
    "from attr import attrs, attrib, Factory\n",
    "import typing\n",
    "\n",
    "@attrs\n",
    "class Point(object):\n",
    "    x = attrib(type=int, default=0)\n",
    "    y = attrib(type=int, default=0)\n",
    "\n",
    "@attrs\n",
    "class Line(object):\n",
    "    name = attrib()\n",
    "    points = attrib(type=typing.List[Point])\n",
    "\n",
    "if __name__ == '__main__':\n",
    "    points = [Point(i, i) for i in range(5)]\n",
    "    print(points)\n",
    "    line = Line(name='line1', points=points)\n",
    "    print(line)"
   ]
  },
  {
   "cell_type": "markdown",
   "metadata": {},
   "source": [
    "可以看到这里我们得到了一个嵌套类型的 Line 对象，其值是 Point 类型组成的列表。\n",
    "\n",
    "以上便是一些属性的定义，把握好这些属性的定义，我们就可以非常方便地定义一个类了。"
   ]
  },
  {
   "cell_type": "markdown",
   "metadata": {},
   "source": [
    "## 序列转换"
   ]
  },
  {
   "cell_type": "markdown",
   "metadata": {},
   "source": [
    "在很多情况下，我们经常会遇到 JSON 等字符串序列和对象互相转换的需求，尤其是在写 REST API、数据库交互的时候。\n",
    "\n",
    "attrs 库的存在让我们可以非常方便地定义 Python 类，但是它对于序列字符串的转换功能还是比较薄弱的，cattrs 这个库就是用来弥补这个缺陷的，下面我们再来看看 cattrs 这个库。\n",
    "\n",
    "cattrs 导入的时候名字也不太一样，叫做 cattr，它里面提供了两个主要的方法，叫做 structure 和 unstructure，两个方法是相反的，对于类的序列化和反序列化支持非常好。"
   ]
  },
  {
   "cell_type": "markdown",
   "metadata": {},
   "source": [
    "首先我们来看看基本的转换方法的用法，看一个基本的转换实例："
   ]
  }
 ],
 "metadata": {
  "kernelspec": {
   "display_name": "Python 3",
   "language": "python",
   "name": "python3"
  },
  "language_info": {
   "codemirror_mode": {
    "name": "ipython",
    "version": 3
   },
   "file_extension": ".py",
   "mimetype": "text/x-python",
   "name": "python",
   "nbconvert_exporter": "python",
   "pygments_lexer": "ipython3",
   "version": "3.7.3"
  }
 },
 "nbformat": 4,
 "nbformat_minor": 2
}

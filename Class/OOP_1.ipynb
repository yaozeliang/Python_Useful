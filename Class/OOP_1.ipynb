{
 "cells": [
  {
   "cell_type": "markdown",
   "metadata": {},
   "source": [
    "# A Sample Classes in Python"
   ]
  },
  {
   "cell_type": "code",
   "execution_count": 94,
   "metadata": {},
   "outputs": [],
   "source": [
    "class Car:\n",
    "    def __init__(self, color, model, year):\n",
    "\n",
    "        self.color = color\n",
    "\n",
    "        self.model = model\n",
    "\n",
    "        self.year = year"
   ]
  },
  {
   "cell_type": "markdown",
   "metadata": {},
   "source": [
    "## Object Attributes"
   ]
  },
  {
   "cell_type": "code",
   "execution_count": 95,
   "metadata": {},
   "outputs": [
    {
     "name": "stdout",
     "output_type": "stream",
     "text": [
      "My car is yellow\n"
     ]
    }
   ],
   "source": [
    "my_car = Car(\"yellow\", \"beetle\", 1967)\n",
    "\n",
    "print(f\"My car is {my_car.color}\")"
   ]
  },
  {
   "cell_type": "markdown",
   "metadata": {},
   "source": [
    "## Add Attributes"
   ]
  },
  {
   "cell_type": "code",
   "execution_count": 96,
   "metadata": {},
   "outputs": [
    {
     "name": "stdout",
     "output_type": "stream",
     "text": [
      "Wheels: 5\n"
     ]
    }
   ],
   "source": [
    "my_car.wheels = 5\n",
    "\n",
    "print(f\"Wheels: {my_car.wheels}\")"
   ]
  },
  {
   "cell_type": "code",
   "execution_count": 97,
   "metadata": {},
   "outputs": [
    {
     "data": {
      "text/plain": [
       "['__class__',\n",
       " '__delattr__',\n",
       " '__dict__',\n",
       " '__dir__',\n",
       " '__doc__',\n",
       " '__eq__',\n",
       " '__format__',\n",
       " '__ge__',\n",
       " '__getattribute__',\n",
       " '__gt__',\n",
       " '__hash__',\n",
       " '__init__',\n",
       " '__init_subclass__',\n",
       " '__le__',\n",
       " '__lt__',\n",
       " '__module__',\n",
       " '__ne__',\n",
       " '__new__',\n",
       " '__reduce__',\n",
       " '__reduce_ex__',\n",
       " '__repr__',\n",
       " '__setattr__',\n",
       " '__sizeof__',\n",
       " '__str__',\n",
       " '__subclasshook__',\n",
       " '__weakref__',\n",
       " 'color',\n",
       " 'model',\n",
       " 'wheels',\n",
       " 'year']"
      ]
     },
     "execution_count": 97,
     "metadata": {},
     "output_type": "execute_result"
    }
   ],
   "source": [
    "dir(my_car)"
   ]
  },
  {
   "cell_type": "markdown",
   "metadata": {},
   "source": [
    "In Python, when you declare a variable outside of a method, it’s treated as a class variable. Update the Car class as follows:"
   ]
  },
  {
   "cell_type": "code",
   "execution_count": 98,
   "metadata": {},
   "outputs": [],
   "source": [
    "class Car:\n",
    "\n",
    "    wheels = 0\n",
    "\n",
    "    def __init__(self, color, model, year):\n",
    "\n",
    "        self.color = color\n",
    "\n",
    "        self.model = model\n",
    "\n",
    "        self.year = year"
   ]
  },
  {
   "cell_type": "markdown",
   "metadata": {},
   "source": [
    "This changes how you use the variable wheels. Instead of referring to it using an object, you refer to it using the class name:"
   ]
  },
  {
   "cell_type": "code",
   "execution_count": 99,
   "metadata": {
    "scrolled": true
   },
   "outputs": [
    {
     "name": "stdout",
     "output_type": "stream",
     "text": [
      "My car is yellow\n",
      "It has 0 wheels\n",
      "It has 0 wheels\n"
     ]
    }
   ],
   "source": [
    "my_car = Car(\"yellow\", \"beetle\", 1967)\n",
    "\n",
    "print(f\"My car is {my_car.color}\")\n",
    "\n",
    "print(f\"It has {Car.wheels} wheels\")\n",
    "\n",
    "print(f\"It has {my_car.wheels} wheels\")\n"
   ]
  },
  {
   "cell_type": "markdown",
   "metadata": {},
   "source": [
    "but be careful. Changing the value of the instance variable my_car.wheels will not change the value of the class variable Car.wheels:"
   ]
  },
  {
   "cell_type": "code",
   "execution_count": 100,
   "metadata": {},
   "outputs": [
    {
     "name": "stdout",
     "output_type": "stream",
     "text": [
      "My car is yellow\n",
      "It has 0 wheels\n",
      "My other car is red\n",
      "It has 0 wheels\n"
     ]
    }
   ],
   "source": [
    "my_car = Car(\"yellow\", \"Beetle\", \"1966\")\n",
    "my_other_car = Car(\"red\", \"corvette\", \"1999\")\n",
    "\n",
    "print(f\"My car is {my_car.color}\")\n",
    "print(f\"It has {my_car.wheels} wheels\")\n",
    "\n",
    "\n",
    "print(f\"My other car is {my_other_car.color}\")\n",
    "print(f\"It has {my_other_car.wheels} wheels\")"
   ]
  },
  {
   "cell_type": "code",
   "execution_count": 101,
   "metadata": {},
   "outputs": [
    {
     "name": "stdout",
     "output_type": "stream",
     "text": [
      "My car has 4 wheels\n",
      "My other car has 4 wheels\n"
     ]
    }
   ],
   "source": [
    "# Change the class variable value\n",
    "\n",
    "Car.wheels = 4\n",
    "\n",
    "print(f\"My car has {my_car.wheels} wheels\")\n",
    "print(f\"My other car has {my_other_car.wheels} wheels\")"
   ]
  },
  {
   "cell_type": "code",
   "execution_count": 102,
   "metadata": {},
   "outputs": [
    {
     "name": "stdout",
     "output_type": "stream",
     "text": [
      "My car has 5 wheels\n",
      "My other car has 4 wheels\n"
     ]
    }
   ],
   "source": [
    "# Change the instance variable value for my_car\n",
    "\n",
    "my_car.wheels = 5\n",
    "print(f\"My car has {my_car.wheels} wheels\")\n",
    "print(f\"My other car has {my_other_car.wheels} wheels\")"
   ]
  },
  {
   "cell_type": "markdown",
   "metadata": {},
   "source": [
    "You define two Car objects on lines 2 and 3:\n",
    "\n",
    "    my_car\n",
    "    my_other_car\n",
    "\n",
    "At first, both of them have zero wheels. When you set the class variable using car.Car.wheels = 4 , both objects now have four wheels. However, when you set the instance variable using my_car.wheels = 5, only that object is affected.\n",
    "\n",
    "This means that there are now two different copies of the wheels attribute:\n",
    "\n",
    "    A class variable that applies to all Car objects\n",
    "    A specific instance variable applicable to the my_car object only\n"
   ]
  },
  {
   "cell_type": "markdown",
   "metadata": {},
   "source": [
    "Everything in Python is public. This code works with your existing Python class just fine:"
   ]
  },
  {
   "cell_type": "code",
   "execution_count": 103,
   "metadata": {
    "scrolled": true
   },
   "outputs": [],
   "source": [
    "my_car = Car(\"blue\", \"Ford\", 1972)\n",
    "\n",
    "# Paint the car, No error\n",
    "my_car.color = \"red\""
   ]
  },
  {
   "cell_type": "markdown",
   "metadata": {},
   "source": [
    "Instead of private, Python has a notion of a non-public instance variable. Any variable which starts with an underscore character is defined to be non-public. This naming convention makes it harder to access a variable, but it’s only a naming convention, and you can still access the variable directly.\n",
    "\n",
    "Add the following line to your Python Car class:"
   ]
  },
  {
   "cell_type": "code",
   "execution_count": 104,
   "metadata": {},
   "outputs": [],
   "source": [
    "class Car:\n",
    "\n",
    "    wheels = 0\n",
    "    def __init__(self, color, model, year):\n",
    "        self.color = color\n",
    "        self.model = model\n",
    "        self.year = year\n",
    "        self._cupholders = 6\n"
   ]
  },
  {
   "cell_type": "code",
   "execution_count": 105,
   "metadata": {
    "scrolled": true
   },
   "outputs": [
    {
     "name": "stdout",
     "output_type": "stream",
     "text": [
      "It was built in 1969\n"
     ]
    }
   ],
   "source": [
    "my_car = Car(\"yellow\", \"Beetle\", \"1969\")\n",
    "print(f\"It was built in {my_car.year}\")"
   ]
  },
  {
   "cell_type": "markdown",
   "metadata": {},
   "source": [
    "You can access the ._cupholders variable directly:"
   ]
  },
  {
   "cell_type": "code",
   "execution_count": 106,
   "metadata": {},
   "outputs": [
    {
     "name": "stdout",
     "output_type": "stream",
     "text": [
      "It was built in 1966\n",
      "It has 6 cupholders.\n"
     ]
    }
   ],
   "source": [
    "my_car.year = 1966\n",
    "print(f\"It was built in {my_car.year}\")\n",
    "print(f\"It has {my_car._cupholders} cupholders.\")"
   ]
  },
  {
   "cell_type": "markdown",
   "metadata": {},
   "source": [
    "Python further recognizes using double underscore characters in front of a variable to conceal an attribute in Python. When Python sees a double underscore variable, it changes the variable name internally to make it difficult to access directly. This mechanism avoids accidents but still doesn’t make data impossible to access.\n",
    "\n",
    "To show this mechanism in action, change the Python Car class again:"
   ]
  },
  {
   "cell_type": "code",
   "execution_count": 107,
   "metadata": {},
   "outputs": [],
   "source": [
    "class Car:\n",
    "    wheels = 0\n",
    "    def __init__(self, color, model, year):\n",
    "        self.color = color\n",
    "        self.model = model\n",
    "        self.year = year\n",
    "        self.__cupholders = 6\n"
   ]
  },
  {
   "cell_type": "markdown",
   "metadata": {},
   "source": [
    "Now, when you try to access the .__cupholders variable, you see the following error:"
   ]
  },
  {
   "cell_type": "code",
   "execution_count": 108,
   "metadata": {
    "scrolled": true
   },
   "outputs": [
    {
     "name": "stdout",
     "output_type": "stream",
     "text": [
      "It was built in 1969\n"
     ]
    },
    {
     "ename": "AttributeError",
     "evalue": "'Car' object has no attribute '__cupholders'",
     "output_type": "error",
     "traceback": [
      "\u001b[1;31m---------------------------------------------------------------------------\u001b[0m",
      "\u001b[1;31mAttributeError\u001b[0m                            Traceback (most recent call last)",
      "\u001b[1;32m<ipython-input-108-1efe56f0c054>\u001b[0m in \u001b[0;36m<module>\u001b[1;34m\u001b[0m\n\u001b[0;32m      1\u001b[0m \u001b[0mmy_car\u001b[0m \u001b[1;33m=\u001b[0m \u001b[0mCar\u001b[0m\u001b[1;33m(\u001b[0m\u001b[1;34m\"yellow\"\u001b[0m\u001b[1;33m,\u001b[0m \u001b[1;34m\"Beetle\"\u001b[0m\u001b[1;33m,\u001b[0m \u001b[1;34m\"1969\"\u001b[0m\u001b[1;33m)\u001b[0m\u001b[1;33m\u001b[0m\u001b[1;33m\u001b[0m\u001b[0m\n\u001b[0;32m      2\u001b[0m \u001b[0mprint\u001b[0m\u001b[1;33m(\u001b[0m\u001b[1;34mf\"It was built in {my_car.year}\"\u001b[0m\u001b[1;33m)\u001b[0m\u001b[1;33m\u001b[0m\u001b[1;33m\u001b[0m\u001b[0m\n\u001b[1;32m----> 3\u001b[1;33m \u001b[0mprint\u001b[0m\u001b[1;33m(\u001b[0m\u001b[1;34mf\"It has {my_car.__cupholders} cupholders.\"\u001b[0m\u001b[1;33m)\u001b[0m\u001b[1;33m\u001b[0m\u001b[1;33m\u001b[0m\u001b[0m\n\u001b[0m",
      "\u001b[1;31mAttributeError\u001b[0m: 'Car' object has no attribute '__cupholders'"
     ]
    }
   ],
   "source": [
    "my_car = Car(\"yellow\", \"Beetle\", \"1969\")\n",
    "print(f\"It was built in {my_car.year}\")\n",
    "print(f\"It has {my_car.__cupholders} cupholders.\")"
   ]
  },
  {
   "cell_type": "markdown",
   "metadata": {},
   "source": [
    "So why doesn’t the .__cupholders attribute exist?\n",
    "\n",
    "When Python sees an attribute with double underscores, it changes the attribute by prefixing the original name of the attribute with an underscore, followed by the class name. To use the attribute directly, you need to change the name you use as well:"
   ]
  },
  {
   "cell_type": "code",
   "execution_count": 109,
   "metadata": {},
   "outputs": [
    {
     "name": "stdout",
     "output_type": "stream",
     "text": [
      "It has 6 cupholders\n"
     ]
    }
   ],
   "source": [
    "print(f\"It has {my_car._Car__cupholders} cupholders\")"
   ]
  },
  {
   "cell_type": "markdown",
   "metadata": {},
   "source": [
    "When you use double underscores to conceal an attribute from the user, Python changes the name in a well-documented manner. This means that a determined developer can still access the attribute directly."
   ]
  },
  {
   "cell_type": "markdown",
   "metadata": {},
   "source": [
    "## Access Control"
   ]
  },
  {
   "cell_type": "markdown",
   "metadata": {},
   "source": [
    "you access attributes directly in Python. Since everything is public, you can access anything at any time from anywhere. You set and get attribute values directly by referring to their names. You can even delete attributes in Python, which isn’t possible in Java:"
   ]
  },
  {
   "cell_type": "code",
   "execution_count": 110,
   "metadata": {},
   "outputs": [
    {
     "name": "stdout",
     "output_type": "stream",
     "text": [
      "My car was built in 1969\n",
      "It was built in 2003\n"
     ]
    },
    {
     "ename": "AttributeError",
     "evalue": "'Car' object has no attribute 'year'",
     "output_type": "error",
     "traceback": [
      "\u001b[1;31m---------------------------------------------------------------------------\u001b[0m",
      "\u001b[1;31mAttributeError\u001b[0m                            Traceback (most recent call last)",
      "\u001b[1;32m<ipython-input-110-46914b0bae82>\u001b[0m in \u001b[0;36m<module>\u001b[1;34m\u001b[0m\n\u001b[0;32m      6\u001b[0m \u001b[1;33m\u001b[0m\u001b[0m\n\u001b[0;32m      7\u001b[0m \u001b[1;32mdel\u001b[0m \u001b[0mmy_car\u001b[0m\u001b[1;33m.\u001b[0m\u001b[0myear\u001b[0m\u001b[1;33m\u001b[0m\u001b[1;33m\u001b[0m\u001b[0m\n\u001b[1;32m----> 8\u001b[1;33m \u001b[0mprint\u001b[0m\u001b[1;33m(\u001b[0m\u001b[1;34mf\"It was built in {my_car.year}\"\u001b[0m\u001b[1;33m)\u001b[0m\u001b[1;33m\u001b[0m\u001b[1;33m\u001b[0m\u001b[0m\n\u001b[0m",
      "\u001b[1;31mAttributeError\u001b[0m: 'Car' object has no attribute 'year'"
     ]
    }
   ],
   "source": [
    "my_car = Car(\"yellow\", \"beetle\", 1969)\n",
    "print(f\"My car was built in {my_car.year}\")\n",
    "\n",
    "my_car.year = 2003\n",
    "print(f\"It was built in {my_car.year}\")\n",
    "\n",
    "del my_car.year\n",
    "print(f\"It was built in {my_car.year}\")"
   ]
  },
  {
   "cell_type": "markdown",
   "metadata": {},
   "source": [
    "However, there are times you may want to control access to an attribute. In that case, you can use Python properties.\n",
    "\n",
    "In Python, properties provide controllable access to class attributes using Python decorator syntax.Properties allow functions to be declared in Python classes that are analogous to Java getter and setter methods, with the added bonus of allowing you to delete attributes as well.\n",
    "\n",
    "You can see how properties work by adding one to your Car class:"
   ]
  },
  {
   "cell_type": "code",
   "execution_count": 111,
   "metadata": {},
   "outputs": [],
   "source": [
    "class Car:\n",
    "\n",
    "    def __init__(self, color, model, year):\n",
    "        self.color = color\n",
    "        self.model = model\n",
    "        self.year = year\n",
    "        self._voltage = 12\n",
    "\n",
    "    @property\n",
    "    def voltage(self):\n",
    "        return self._voltage\n",
    "\n",
    "\n",
    "    @voltage.setter\n",
    "    def voltage(self, volts):\n",
    "        print(\"Warning: this can cause problems!\")\n",
    "        self._voltage = volts\n",
    "\n",
    "\n",
    "    @voltage.deleter\n",
    "    def voltage(self):\n",
    "        print(\"Warning: the radio will stop working!\")\n",
    "        del self._voltage"
   ]
  },
  {
   "cell_type": "markdown",
   "metadata": {},
   "source": [
    "Here, you expand the notion of the Car to include electric vehicles. You declare the ._voltage attribute to hold the battery voltage\n",
    "\n",
    "To provide controlled access, you define a function called voltage() to return the private value. By using the @property decoration, you mark it as a getter that anyone can access directly\n",
    "\n",
    "Similarly, you define a setter function, also called voltage(). However, you decorate this function with @voltage.setter. Lastly, you use @voltage.deleter to decorate a third voltage(), which allows controlled deletion of the attribute.\n",
    "\n",
    "The names of the decorated functions are all the same, indicating they control access to the same attribute. The function names also become the name of the attribute you use to access the value. Here’s how these properties work in practice:"
   ]
  },
  {
   "cell_type": "code",
   "execution_count": 112,
   "metadata": {},
   "outputs": [
    {
     "name": "stdout",
     "output_type": "stream",
     "text": [
      "My car uses 12 volts\n",
      "Warning: this can cause problems!\n",
      "My car now uses 6 volts\n",
      "Warning: the radio will stop working!\n"
     ]
    }
   ],
   "source": [
    "my_car = Car(\"yellow\", \"beetle\", 1969)\n",
    "print(f\"My car uses {my_car.voltage} volts\")\n",
    "\n",
    "\n",
    "my_car.voltage = 6\n",
    "print(f\"My car now uses {my_car.voltage} volts\")\n",
    "\n",
    "del my_car.voltage"
   ]
  },
  {
   "cell_type": "markdown",
   "metadata": {},
   "source": [
    "Note that you use .voltage in the highlighted lines above, not ._voltage. This tells Python to use the property functions you defined:\n",
    "\n",
    "    When you print the value of my_car.voltage , Python calls .voltage() decorated with @property.\n",
    "    When you assign a value to my_car.voltage, Python calls .voltage() decorated with @voltage.setter.\n",
    "    When you delete my_car.voltage, Python calls .voltage() decorated with @voltage.deleter.\n",
    "\n",
    "The @property, @.setter, and @.deleter decorations make it possible to control access to attributes without requiring users to use different methods. You can even make attributes appear to be read-only properties by omitting the @.setter and @.deleter decorated functions."
   ]
  },
  {
   "cell_type": "markdown",
   "metadata": {},
   "source": [
    "## Inheritance and Polymorphism"
   ]
  },
  {
   "cell_type": "markdown",
   "metadata": {},
   "source": [
    "Inheritance and polymorphism are two fundamental concepts in object-oriented programming.\n",
    "\n",
    "Inheritance allows objects to derive attributes and functionality from other objects, creating a hierarchy moving from more general objects to more specific. For example, a Car and a Boat are both specific types of Vehicles. Objects can inherit their behavior from a single parent object or multiple parent objects, and are referred to as child objects when they do.\n",
    "\n",
    "Polymorphism allows two or more objects to behave like one another, which allows them to be used interchangeably. For example, if a method or function knows how to paint a Vehicle object, then it can also paint a Car or Boat object, since they inherit their data and behavior from the Vehicle.\n",
    "\n",
    "These fundamental OOP concepts are implemented quite differently in Python vs Java."
   ]
  },
  {
   "cell_type": "markdown",
   "metadata": {},
   "source": [
    "## Inheritance"
   ]
  },
  {
   "cell_type": "markdown",
   "metadata": {},
   "source": [
    "Python supports multiple inheritance, or creating classes that inherit behavior from more than one parent class.\n",
    "\n",
    "To see how this works, update the Car class by breaking it into two categories, one for vehicles, and one for devices that use electricity:"
   ]
  },
  {
   "cell_type": "code",
   "execution_count": 113,
   "metadata": {},
   "outputs": [],
   "source": [
    "class Vehicle:\n",
    "    def __init__(self, color, model):\n",
    "        self.color = color\n",
    "        self.model = model\n",
    "\n",
    "class Device:\n",
    "    def __init__(self):\n",
    "        self._voltage = 12\n",
    "\n",
    "class Car(Vehicle, Device):\n",
    "    def __init__(self, color, model, year):\n",
    "        Vehicle.__init__(self, color, model)\n",
    "        Device.__init__(self)\n",
    "        self.year = year\n",
    "\n",
    "    @property\n",
    "    def voltage(self):\n",
    "        return self._voltage\n",
    "\n",
    "    @voltage.setter\n",
    "    def voltage(self, volts):\n",
    "        print(\"Warning: this can cause problems!\")\n",
    "        self._voltage = volts\n",
    "\n",
    "    @voltage.deleter\n",
    "    def voltage(self):\n",
    "        print(\"Warning: the radio will stop working!\")\n",
    "        del self._voltage\n",
    "        \n",
    "    def __str__(self):\n",
    "        return f'Car {self.color} : {self.model} : {self.year}'"
   ]
  },
  {
   "cell_type": "markdown",
   "metadata": {},
   "source": [
    "A Vehicle is defined as having .color and .model attributes. Then, a Device is defined to have a ._voltage attribute. Since the original Car object had these three attributes, it can be redefined to inherit both the Vehicle and Device classes. The color, model, and _voltage attributes will be part of the new Car class.\n",
    "\n",
    "In the .__init__() for Car, you call the .__init__() methods for both of the parent classes to make sure everything is initialized properly. Once done, you can add any other functionality you want to your Car. In this case, you add a .year attribute specific to Car objects, and getter and setter methods for .voltage.\n",
    "\n",
    "Functionally, the new Car class behaves as it always has. You create and use Car objects just as before:"
   ]
  },
  {
   "cell_type": "code",
   "execution_count": 114,
   "metadata": {},
   "outputs": [
    {
     "name": "stdout",
     "output_type": "stream",
     "text": [
      "My car is yellow\n",
      "My car uses 12 volts\n",
      "Warning: this can cause problems!\n",
      "My car now uses 6 volts\n"
     ]
    }
   ],
   "source": [
    "my_car = Car(\"yellow\", \"beetle\", 1969)\n",
    "\n",
    "print(f\"My car is {my_car.color}\")\n",
    "print(f\"My car uses {my_car.voltage} volts\")\n",
    "\n",
    "\n",
    "my_car.voltage = 6\n",
    "print(f\"My car now uses {my_car.voltage} volts\")\n"
   ]
  },
  {
   "cell_type": "markdown",
   "metadata": {},
   "source": [
    "## Type Checking"
   ]
  },
  {
   "cell_type": "code",
   "execution_count": 115,
   "metadata": {},
   "outputs": [
    {
     "name": "stdout",
     "output_type": "stream",
     "text": [
      "Charging a 12 volt device\n",
      "Charging a 12 volt device\n",
      "I can't charge a Rhino\n"
     ]
    }
   ],
   "source": [
    "def charge(device):\n",
    "    if hasattr(device, '_voltage'):\n",
    "        print(f\"Charging a {device._voltage} volt device\")\n",
    "    else:\n",
    "        print(f\"I can't charge a {device.__class__.__name__}\")\n",
    "\n",
    "class Phone(Device):\n",
    "    pass\n",
    "\n",
    "class Rhino:\n",
    "    pass\n",
    "\n",
    "\n",
    "my_car = Car(\"yellow\", \"Beetle\", \"1966\")\n",
    "my_phone = Phone()\n",
    "my_rhino = Rhino()\n",
    "\n",
    "charge(my_car)\n",
    "\n",
    "charge(my_phone)\n",
    "\n",
    "charge(my_rhino)\n"
   ]
  },
  {
   "cell_type": "markdown",
   "metadata": {},
   "source": [
    "charge() must check for the existence of the ._voltage attribute in the object it’s passed. Since the Device class defines this attribute, any class that inherits from it (such as Car and Phone) will have this attribute, and will therefore show they are charging properly. Classes that do not inherit from Device (like Rhino) may not have this attribute, and will not be able to charge (which is good, since charging rhinos can be dangerous)."
   ]
  },
  {
   "cell_type": "markdown",
   "metadata": {},
   "source": [
    "## Default Methods"
   ]
  },
  {
   "cell_type": "markdown",
   "metadata": {},
   "source": [
    "Python provides similar functionality with a set of common dunder (short for “double underscore”) methods. Every Python class inherits these methods, and you can override them to modify their behavior.\n",
    "\n",
    "For string representations of an object, Python provides __repr__() and __str__(), which you can learn about in Pythonic OOP String Conversion: __repr__ vs __str__. The unambiguous representation of an object is returned by __repr__(), while __str__() returns a human readable representation. "
   ]
  },
  {
   "cell_type": "markdown",
   "metadata": {},
   "source": [
    "Python provides default implementations of these dunder methods:"
   ]
  },
  {
   "cell_type": "code",
   "execution_count": 116,
   "metadata": {
    "scrolled": true
   },
   "outputs": [
    {
     "name": "stdout",
     "output_type": "stream",
     "text": [
      "<__main__.Car object at 0x00000211EAE19898>\n",
      "Car yellow : Beetle : 1966\n"
     ]
    }
   ],
   "source": [
    "my_car = Car(\"yellow\", \"Beetle\", \"1966\")\n",
    "\n",
    "print(repr(my_car))\n",
    "\n",
    "print(str(my_car))"
   ]
  },
  {
   "cell_type": "markdown",
   "metadata": {},
   "source": [
    "Overriding the dunder method gave us a more readable representation of your Car. You may want to override the .__repr__() as well, as it is often useful for debugging.\n",
    "\n",
    "Python offers a lot more dunder methods. Using dunder methods, you can define your object’s behavior during iteration, comparison, addition, or making an object callable directly, among other things."
   ]
  },
  {
   "cell_type": "markdown",
   "metadata": {},
   "source": [
    "## Operator Overloading"
   ]
  },
  {
   "cell_type": "markdown",
   "metadata": {},
   "source": [
    "Operator overloading refers to redefining how Python operators work when operating on user-defined objects. Python’s dunder methods allow you to implement operator overloading, something that Java doesn’t offer at all.\n",
    "\n",
    "Modify your Python Car class with the following additional dunder methods:"
   ]
  },
  {
   "cell_type": "code",
   "execution_count": 117,
   "metadata": {},
   "outputs": [],
   "source": [
    "class Car:\n",
    "    def __init__(self, color, model, year):\n",
    "        self.color = color\n",
    "        self.model = model\n",
    "        self.year = year\n",
    "\n",
    "    def __str__(self):\n",
    "        return f'Car {self.color} : {self.model} : {self.year}'\n",
    "\n",
    "    def __eq__(self, other):\n",
    "        return self.year == other.year\n",
    "\n",
    "    def __lt__(self, other):\n",
    "        return self.year < other.year\n",
    "\n",
    "    def __add__(self, other):\n",
    "        return Car(self.color + other.color, \n",
    "                   self.model + other.model, \n",
    "                   int(self.year) + int(other.year))\n"
   ]
  },
  {
   "cell_type": "markdown",
   "metadata": {},
   "source": [
    "Dunder Method \tOperator \tPurpose\n",
    " - __eq__ \t== \tDo these Car objects have the same year?\n",
    " - __lt__ \t< \tWhich Car is an earlier model?\n",
    " - __add__ \t+ \tAdd two Car objects in a nonsensical way"
   ]
  },
  {
   "cell_type": "markdown",
   "metadata": {},
   "source": [
    "When Python sees an expression containing objects, it calls any dunder methods defined that correspond to operators in the expression. The code below uses these new overloaded arithmetic operators on a couple of Car objects:"
   ]
  },
  {
   "cell_type": "code",
   "execution_count": 118,
   "metadata": {},
   "outputs": [],
   "source": [
    "my_car = Car(\"yellow\", \"Beetle\", \"1966\")\n",
    "your_car = Car(\"red\", \"Corvette\", \"1967\")\n"
   ]
  },
  {
   "cell_type": "code",
   "execution_count": 119,
   "metadata": {},
   "outputs": [
    {
     "name": "stdout",
     "output_type": "stream",
     "text": [
      "True\n"
     ]
    }
   ],
   "source": [
    "print (my_car < your_car)"
   ]
  },
  {
   "cell_type": "code",
   "execution_count": 120,
   "metadata": {},
   "outputs": [
    {
     "name": "stdout",
     "output_type": "stream",
     "text": [
      "False\n"
     ]
    }
   ],
   "source": [
    "print (my_car > your_car)"
   ]
  },
  {
   "cell_type": "code",
   "execution_count": 121,
   "metadata": {},
   "outputs": [
    {
     "name": "stdout",
     "output_type": "stream",
     "text": [
      "False\n"
     ]
    }
   ],
   "source": [
    "print (my_car == your_car)"
   ]
  },
  {
   "cell_type": "code",
   "execution_count": 122,
   "metadata": {},
   "outputs": [
    {
     "name": "stdout",
     "output_type": "stream",
     "text": [
      "Car yellowred : BeetleCorvette : 3933\n"
     ]
    }
   ],
   "source": [
    "print (my_car + your_car)"
   ]
  },
  {
   "cell_type": "markdown",
   "metadata": {},
   "source": [
    "There are many more operators you can overload using dunder methods. They offer a way to enrich your object’s behavior in a way that Java’s common base class default methods don’t."
   ]
  },
  {
   "cell_type": "markdown",
   "metadata": {},
   "source": [
    "## Reflection"
   ]
  },
  {
   "cell_type": "markdown",
   "metadata": {},
   "source": [
    "### Examining an Object’s Type"
   ]
  },
  {
   "cell_type": "markdown",
   "metadata": {},
   "source": [
    "Both languages have ways to test or check an object’s type.\n",
    "\n",
    "In Python, you use type() to display the type of a variable, and isinstance() to determine if a given variable is an instance or child of a specific class:"
   ]
  },
  {
   "cell_type": "code",
   "execution_count": 123,
   "metadata": {},
   "outputs": [
    {
     "name": "stdout",
     "output_type": "stream",
     "text": [
      "<class '__main__.Car'>\n",
      "True\n",
      "False\n"
     ]
    }
   ],
   "source": [
    "print(type(my_car))\n",
    "\n",
    "print(isinstance(my_car, Car))\n",
    "\n",
    "print(isinstance(my_car, Device))\n"
   ]
  },
  {
   "cell_type": "markdown",
   "metadata": {},
   "source": [
    "### Examining an Object’s Attributes"
   ]
  },
  {
   "cell_type": "markdown",
   "metadata": {},
   "source": [
    "In Python, you can view every attribute and function contained in any object (including all the dunder methods) using dir(). To get the specific details of a given attribute or function, use getattr():"
   ]
  },
  {
   "cell_type": "code",
   "execution_count": 124,
   "metadata": {},
   "outputs": [
    {
     "name": "stdout",
     "output_type": "stream",
     "text": [
      "['__add__', '__class__', '__delattr__', '__dict__', '__dir__', '__doc__', '__eq__', '__format__', '__ge__', '__getattribute__', '__gt__', '__hash__', '__init__', '__init_subclass__', '__le__', '__lt__', '__module__', '__ne__', '__new__', '__reduce__', '__reduce_ex__', '__repr__', '__setattr__', '__sizeof__', '__str__', '__subclasshook__', '__weakref__', 'color', 'model', 'year']\n"
     ]
    }
   ],
   "source": [
    "print(dir(my_car))"
   ]
  },
  {
   "cell_type": "code",
   "execution_count": 125,
   "metadata": {},
   "outputs": [
    {
     "name": "stdout",
     "output_type": "stream",
     "text": [
      "<bound method Car.__init__ of <__main__.Car object at 0x00000211EAE19DD8>>\n"
     ]
    }
   ],
   "source": [
    "print(getattr(my_car, \"__init__\"))"
   ]
  },
  {
   "cell_type": "markdown",
   "metadata": {},
   "source": [
    "## Calling Methods Through Reflection"
   ]
  },
  {
   "cell_type": "markdown",
   "metadata": {},
   "source": [
    "Both Java and Python provide mechanisms to call methods through reflection."
   ]
  },
  {
   "cell_type": "markdown",
   "metadata": {},
   "source": [
    "However, since Python doesn’t differentiate between functions and attributes, you have to look specifically for entries that are callable:"
   ]
  },
  {
   "cell_type": "code",
   "execution_count": 126,
   "metadata": {},
   "outputs": [
    {
     "name": "stdout",
     "output_type": "stream",
     "text": [
      "__add__\n",
      "__class__\n",
      "__delattr__\n",
      "__dir__\n",
      "__eq__\n",
      "__format__\n",
      "__ge__\n",
      "__getattribute__\n",
      "__gt__\n",
      "__init__\n",
      "__init_subclass__\n",
      "__le__\n",
      "__lt__\n",
      "__ne__\n",
      "__new__\n",
      "__reduce__\n",
      "__reduce_ex__\n",
      "__repr__\n",
      "__setattr__\n",
      "__sizeof__\n",
      "__str__\n",
      "__subclasshook__\n"
     ]
    }
   ],
   "source": [
    "for method_name in dir(my_car):\n",
    "    if callable(getattr(my_car, method_name)):\n",
    "        print(method_name)"
   ]
  },
  {
   "cell_type": "markdown",
   "metadata": {},
   "source": [
    "The code below will find an object’s .__str__() and call it through reflection:"
   ]
  },
  {
   "cell_type": "code",
   "execution_count": 127,
   "metadata": {},
   "outputs": [
    {
     "name": "stdout",
     "output_type": "stream",
     "text": [
      "Car yellow : Beetle : 1966\n"
     ]
    }
   ],
   "source": [
    "for method_name in dir(my_car):\n",
    "    attr = getattr(my_car, method_name)\n",
    "    if callable(attr):\n",
    "        if method_name == '__str__':\n",
    "            print(attr())\n"
   ]
  },
  {
   "cell_type": "markdown",
   "metadata": {},
   "source": [
    "Here, every attribute returned by dir() is checked. You get the actual attribute object using getattr(), and check if it’s a callable function using callable(). If so, you then check if its name is __str__(), and then call it."
   ]
  }
 ],
 "metadata": {
  "kernelspec": {
   "display_name": "Python 3",
   "language": "python",
   "name": "python3"
  },
  "language_info": {
   "codemirror_mode": {
    "name": "ipython",
    "version": 3
   },
   "file_extension": ".py",
   "mimetype": "text/x-python",
   "name": "python",
   "nbconvert_exporter": "python",
   "pygments_lexer": "ipython3",
   "version": "3.7.3"
  }
 },
 "nbformat": 4,
 "nbformat_minor": 2
}

{
 "cells": [
  {
   "cell_type": "markdown",
   "metadata": {},
   "source": [
    "\n",
    "## zip() in Python\n",
    "\n",
    "The purpose of zip() is to map the similar index of multiple containers so that they can be used just using as single entity. \n",
    "- Syntax : zip(*iterators)\n",
    "- Parameters : Python iterables or containers ( list, string etc )\n",
    "- Return Value : Returns a single iterator object, having mapped values from all the containers."
   ]
  },
  {
   "cell_type": "markdown",
   "metadata": {},
   "source": [
    "> Example 1"
   ]
  },
  {
   "cell_type": "code",
   "execution_count": 10,
   "metadata": {},
   "outputs": [
    {
     "data": {
      "text/plain": [
       "{('Astha', 2, 70), ('Manjeet', 4, 40), ('Nikhil', 1, 50), ('Shambhavi', 3, 60)}"
      ]
     },
     "execution_count": 10,
     "metadata": {},
     "output_type": "execute_result"
    }
   ],
   "source": [
    "name = [ \"Manjeet\", \"Nikhil\", \"Shambhavi\", \"Astha\" ] \n",
    "roll_no = [ 4, 1, 3, 2 ] \n",
    "marks = [ 40, 50, 60, 70 ] \n",
    "  \n",
    "# using zip() to map values \n",
    "mapped_set = set(zip(name, roll_no, marks))\n",
    "mapped_set"
   ]
  },
  {
   "cell_type": "code",
   "execution_count": 11,
   "metadata": {},
   "outputs": [
    {
     "data": {
      "text/plain": [
       "{'Manjeet': 40, 'Nikhil': 50, 'Shambhavi': 60, 'Astha': 70}"
      ]
     },
     "execution_count": 11,
     "metadata": {},
     "output_type": "execute_result"
    }
   ],
   "source": [
    "# converting values to print as dict\n",
    "mapped_dict = dict(zip(name,marks))\n",
    "mapped_dict"
   ]
  },
  {
   "cell_type": "markdown",
   "metadata": {},
   "source": [
    "How to unzip?\n",
    "Unzipping means converting the zipped values back to the individual self as they were. This is done with the help of “*” operator."
   ]
  },
  {
   "cell_type": "markdown",
   "metadata": {},
   "source": [
    "> Example 2"
   ]
  },
  {
   "cell_type": "code",
   "execution_count": 13,
   "metadata": {},
   "outputs": [
    {
     "name": "stdout",
     "output_type": "stream",
     "text": [
      "The zipped result is : [('Manjeet', 4, 40), ('Nikhil', 1, 50), ('Shambhavi', 3, 60), ('Astha', 2, 70)]\n",
      "\n",
      "\n"
     ]
    }
   ],
   "source": [
    "name = [ \"Manjeet\", \"Nikhil\", \"Shambhavi\", \"Astha\" ] \n",
    "roll_no = [ 4, 1, 3, 2 ] \n",
    "marks = [ 40, 50, 60, 70 ] \n",
    "  \n",
    "# using zip() to map values \n",
    "mapped = list(zip(name, roll_no, marks) )\n",
    "  \n",
    "# printing resultant values  \n",
    "print (\"The zipped result is : \",end=\"\") \n",
    "print (mapped) \n",
    "  \n",
    "print(\"\\n\") "
   ]
  },
  {
   "cell_type": "code",
   "execution_count": 14,
   "metadata": {},
   "outputs": [
    {
     "name": "stdout",
     "output_type": "stream",
     "text": [
      "The unzipped result: \n",
      "The name list is : ('Manjeet', 'Nikhil', 'Shambhavi', 'Astha')\n",
      "The roll_no list is : (4, 1, 3, 2)\n",
      "The marks list is : (40, 50, 60, 70)\n"
     ]
    }
   ],
   "source": [
    "# unzipping values \n",
    "namz, roll_noz, marksz = zip(*mapped) \n",
    "  \n",
    "print (\"The unzipped result: \\n\",end=\"\") \n",
    "  \n",
    "# printing initial lists \n",
    "print (\"The name list is : \",end=\"\") \n",
    "print (namz) \n",
    "  \n",
    "print (\"The roll_no list is : \",end=\"\") \n",
    "print (roll_noz) \n",
    "  \n",
    "print (\"The marks list is : \",end=\"\") \n",
    "print (marksz) "
   ]
  },
  {
   "cell_type": "markdown",
   "metadata": {},
   "source": [
    "Practical Applications : There are many possible applications that can be said to be exected using zip, be it student database or scorecard or any other utility that requires mapping of groups. A small example of scorecard is demonstrated below."
   ]
  },
  {
   "cell_type": "code",
   "execution_count": 15,
   "metadata": {},
   "outputs": [
    {
     "name": "stdout",
     "output_type": "stream",
     "text": [
      "Player :  Sachin     Score : 100\n",
      "Player :  Sehwag     Score : 15\n",
      "Player :  Gambhir     Score : 17\n",
      "Player :  Dravid     Score : 28\n",
      "Player :  Raina     Score : 43\n"
     ]
    }
   ],
   "source": [
    "# initializing list of players. \n",
    "players = [ \"Sachin\", \"Sehwag\", \"Gambhir\", \"Dravid\", \"Raina\" ] \n",
    "  \n",
    "# initializing their scores \n",
    "scores = [100, 15, 17, 28, 43 ] \n",
    "  \n",
    "# printing players and scores. \n",
    "for pl, sc in zip(players, scores): \n",
    "    print (\"Player :  %s     Score : %d\" %(pl, sc)) "
   ]
  }
 ],
 "metadata": {
  "kernelspec": {
   "display_name": "Python 3",
   "language": "python",
   "name": "python3"
  },
  "language_info": {
   "codemirror_mode": {
    "name": "ipython",
    "version": 3
   },
   "file_extension": ".py",
   "mimetype": "text/x-python",
   "name": "python",
   "nbconvert_exporter": "python",
   "pygments_lexer": "ipython3",
   "version": "3.7.3"
  }
 },
 "nbformat": 4,
 "nbformat_minor": 2
}

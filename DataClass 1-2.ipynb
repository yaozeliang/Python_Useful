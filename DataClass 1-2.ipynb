{
 "cells": [
  {
   "cell_type": "markdown",
   "metadata": {},
   "source": [
    "## Data Classes in Python | An Introduction"
   ]
  },
  {
   "cell_type": "markdown",
   "metadata": {},
   "source": [
    "The DataClasses are implemented by using decorators with classes. Attributes are declared using Type Hints in Python which is essentially, specifying data type for variables in python.\n"
   ]
  },
  {
   "cell_type": "code",
   "execution_count": 2,
   "metadata": {},
   "outputs": [],
   "source": [
    "from dataclasses import dataclass"
   ]
  },
  {
   "cell_type": "code",
   "execution_count": 4,
   "metadata": {},
   "outputs": [],
   "source": [
    "@dataclass\n",
    "\n",
    "class GfgArticle:\n",
    "    \"\"\"A class for holding an article content\"\"\"\n",
    "    # Attributes Declaration \n",
    "    # using Type Hints \n",
    "    title:str\n",
    "    author:str\n",
    "    language:str\n",
    "    upvotes:int"
   ]
  },
  {
   "cell_type": "code",
   "execution_count": 6,
   "metadata": {},
   "outputs": [
    {
     "data": {
      "text/plain": [
       "GfgArticle(title='Harry Potter', author='Jk', language='En', upvotes=200)"
      ]
     },
     "execution_count": 6,
     "metadata": {},
     "output_type": "execute_result"
    }
   ],
   "source": [
    "article = GfgArticle(\"Harry Potter\",\"Jk\",\"En\",200)\n",
    "article"
   ]
  },
  {
   "cell_type": "markdown",
   "metadata": {},
   "source": [
    "## Data Classes in Python | Set 2 (Decorator Parameters)"
   ]
  },
  {
   "cell_type": "markdown",
   "metadata": {},
   "source": [
    "- @dataclasses.dataclass(*, init=True, repr=True, eq=True, order=False, unsafe_hash=False, frozen=False) "
   ]
  },
  {
   "cell_type": "markdown",
   "metadata": {},
   "source": [
    "**repr**: This parameter specifies how the __repr__() function will behave. False value corresponds to hash value representation of the object in memory. True value corresponds to DataClass representation of the object|"
   ]
  },
  {
   "cell_type": "markdown",
   "metadata": {},
   "source": [
    "parameter  | usage\n",
    "-------- | -----\n",
    "init |True (default): There will be a default Constructor,False: No\n",
    "repr    | pecifies how the __repr__() function will behave. \n",
    "eq      |specify the operation performed in comparison when two DataClasses are compared for equality using == or != operators\n",
    "order|Comparison between two DataClasses are not only restricted only to equality, but also supports >, >=, < and <= operators\n",
    "frozen| This sets all the variables in the DataClass as one-time initializable that is once initialized, it cannot be reassigned a new value."
   ]
  },
  {
   "cell_type": "markdown",
   "metadata": {},
   "source": [
    "### ex. repr,eq"
   ]
  },
  {
   "cell_type": "code",
   "execution_count": 10,
   "metadata": {},
   "outputs": [
    {
     "name": "stdout",
     "output_type": "stream",
     "text": [
      "Classes Equal: False\n"
     ]
    }
   ],
   "source": [
    "from dataclasses import dataclass \n",
    "\n",
    "@dataclass(repr = False, eq = False) \n",
    "class GfgArticle(): \n",
    "    title: str\n",
    "    author: str\n",
    "    language: str\n",
    "    upvotes: int\n",
    "\n",
    "# Two DataClass objects \n",
    "dClassArticle1 = GfgArticle(\"DataClasses\", \n",
    "\"vibhu4agarwal\", \n",
    "\"Python\", 0) \n",
    "\n",
    "dClassArticle2 = GfgArticle(\"DataClasses\", \n",
    "\"vibhu4agarwal\", \n",
    "\"Python\", 0) \n",
    "\n",
    "equal = dClassArticle1 == dClassArticle2 \n",
    "print('Classes Equal:', equal) \n"
   ]
  },
  {
   "cell_type": "markdown",
   "metadata": {},
   "source": [
    "### ex. order"
   ]
  },
  {
   "cell_type": "code",
   "execution_count": 13,
   "metadata": {
    "scrolled": true
   },
   "outputs": [
    {
     "name": "stdout",
     "output_type": "stream",
     "text": [
      "False\n",
      "True\n",
      "False\n",
      "True\n"
     ]
    }
   ],
   "source": [
    "from dataclasses import dataclass \n",
    "\t\n",
    "@dataclass(order = True) \n",
    "class A(): \n",
    "\tvar1: int\n",
    "\tvar2: str\n",
    "\tvar3: float\n",
    "\n",
    "obj1 = A(1, \"GeeksForGeeks\", 7.0) \n",
    "obj2 = A(2, \"GeeksForGeeks\", 7.0) \n",
    "obj3 = A(1, \"GfG\", 7.0) \n",
    "obj4 = A(1, \"GeeksForGeeks\", 8.0) \n",
    "\n",
    "print(obj1 > obj2) \n",
    "print(obj1 < obj3) \n",
    "print(obj1 >= obj4) \n",
    "print(obj4 > obj1) "
   ]
  },
  {
   "cell_type": "markdown",
   "metadata": {},
   "source": [
    "### ex. frozen"
   ]
  },
  {
   "cell_type": "code",
   "execution_count": 14,
   "metadata": {},
   "outputs": [
    {
     "name": "stdout",
     "output_type": "stream",
     "text": [
      "GfgArticle(title='DataClasses', author='vibhu4agarwal', language='Python', upvotes=0)\n"
     ]
    }
   ],
   "source": [
    "from dataclasses import dataclass  \n",
    "    \n",
    "@dataclass(frozen = True) \n",
    "class GfgArticle(): \n",
    "    \n",
    "    title: str\n",
    "    author: str\n",
    "    language: str\n",
    "    upvotes: int\n",
    "        \n",
    "dClassArticle = GfgArticle(\"DataClasses\", \n",
    "                           \"vibhu4agarwal\", \n",
    "                           \"Python\", 0) \n",
    "print(dClassArticle) "
   ]
  },
  {
   "cell_type": "code",
   "execution_count": 18,
   "metadata": {},
   "outputs": [
    {
     "name": "stdout",
     "output_type": "stream",
     "text": [
      "6747448915459089106\n"
     ]
    }
   ],
   "source": [
    "# dClassArticle.upvotes = 100\n",
    "#  FrozenInstanceError: cannot assign to field 'upvotes'\n",
    "\"\"\"However frozen=True sets the variables one-time initializable and hence makes the object immutable. \n",
    "This safely generates a hash for the DataClass object.\"\"\"\n",
    "print(hash(dClassArticle)) "
   ]
  },
  {
   "cell_type": "markdown",
   "metadata": {},
   "source": [
    "### unsafe_hash = True"
   ]
  },
  {
   "cell_type": "markdown",
   "metadata": {},
   "source": [
    "This case comes into use when logically, we know that once initialized, we aren’t going to change the Dataclass attributes’ values. But it comes down to the question of Can they be changed? or in other words, Is the DataClass is not frozen or not? While using unsafe_hash, if the DataClass is not frozen, then DataClass generates an unsafe hash, assuming that the class is frozen and then the programmer has to further use this very carefully."
   ]
  },
  {
   "cell_type": "code",
   "execution_count": 19,
   "metadata": {},
   "outputs": [
    {
     "name": "stdout",
     "output_type": "stream",
     "text": [
      "GfgArticle(title='DataClasses', author='vibhu4agarwal', language='Python', upvotes=0)\n",
      "6747448915459089106\n"
     ]
    }
   ],
   "source": [
    "from dataclasses import dataclass  \n",
    "    \n",
    "@dataclass(unsafe_hash = True) \n",
    "class GfgArticle(): \n",
    "    \n",
    "    title: str\n",
    "    author: str\n",
    "    language: str\n",
    "    upvotes: int\n",
    "  \n",
    "dClassArticle = GfgArticle(\"DataClasses\", \n",
    "                           \"vibhu4agarwal\", \n",
    "                           \"Python\", 0) \n",
    "print(dClassArticle) \n",
    "print(hash(dClassArticle)) "
   ]
  },
  {
   "cell_type": "code",
   "execution_count": null,
   "metadata": {},
   "outputs": [],
   "source": []
  }
 ],
 "metadata": {
  "kernelspec": {
   "display_name": "Python 3",
   "language": "python",
   "name": "python3"
  },
  "language_info": {
   "codemirror_mode": {
    "name": "ipython",
    "version": 3
   },
   "file_extension": ".py",
   "mimetype": "text/x-python",
   "name": "python",
   "nbconvert_exporter": "python",
   "pygments_lexer": "ipython3",
   "version": "3.7.3"
  }
 },
 "nbformat": 4,
 "nbformat_minor": 2
}

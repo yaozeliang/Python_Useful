{
 "cells": [
  {
   "cell_type": "markdown",
   "metadata": {},
   "source": [
    "### In-Place Concatenation and Repetition"
   ]
  },
  {
   "cell_type": "markdown",
   "metadata": {},
   "source": [
    "##### In-Place Concatenation"
   ]
  },
  {
   "cell_type": "markdown",
   "metadata": {},
   "source": [
    "We saw that using concatenation ended up creating a new sequence object:"
   ]
  },
  {
   "cell_type": "code",
   "execution_count": 10,
   "metadata": {},
   "outputs": [
    {
     "name": "stdout",
     "output_type": "stream",
     "text": [
      "1880682248904 [1, 2, 3, 4]\n",
      "1880682247880 [5, 6]\n"
     ]
    }
   ],
   "source": [
    "l1 = [1, 2, 3, 4]\n",
    "l2 = [5, 6]\n",
    "print(id(l1), l1)\n",
    "print(id(l2), l2)"
   ]
  },
  {
   "cell_type": "code",
   "execution_count": 11,
   "metadata": {},
   "outputs": [
    {
     "name": "stdout",
     "output_type": "stream",
     "text": [
      "1880682249608 [1, 2, 3, 4, 5, 6]\n"
     ]
    }
   ],
   "source": [
    "l1 = l1 + l2\n",
    "print(id(l1), l1)"
   ]
  },
  {
   "cell_type": "markdown",
   "metadata": {},
   "source": [
    "But watch what happens when we use the in-place concatenation operator `+=:"
   ]
  },
  {
   "cell_type": "code",
   "execution_count": 12,
   "metadata": {},
   "outputs": [
    {
     "name": "stdout",
     "output_type": "stream",
     "text": [
      "1880682249032 [1, 2, 3, 4]\n",
      "1880681468936 [5, 6]\n"
     ]
    }
   ],
   "source": [
    "l1 = [1, 2, 3, 4]\n",
    "l2 = [5, 6]\n",
    "print(id(l1), l1)\n",
    "print(id(l2), l2)"
   ]
  },
  {
   "cell_type": "code",
   "execution_count": 13,
   "metadata": {},
   "outputs": [
    {
     "name": "stdout",
     "output_type": "stream",
     "text": [
      "1880682249032 [1, 2, 3, 4, 5, 6]\n"
     ]
    }
   ],
   "source": [
    "l1 += l2\n",
    "print(id(l1), l1)"
   ]
  },
  {
   "cell_type": "markdown",
   "metadata": {},
   "source": [
    "Notice how the `id` of `l1` has **not** changed - it is the same object, just mutated!"
   ]
  },
  {
   "cell_type": "markdown",
   "metadata": {},
   "source": [
    "So far in this course I have often said that:\n",
    "\n",
    "`a = a + 1`\n",
    "\n",
    "and \n",
    "\n",
    "`a += 1`\n",
    "\n",
    "are the same thing.\n",
    "\n",
    "And for immutable objects such as integers, that is indeed true.\n",
    "\n",
    "But in fact `+` and `+=` are two different operators."
   ]
  },
  {
   "cell_type": "markdown",
   "metadata": {},
   "source": [
    "It is interesting to note that the implementation of `+=` for lists will actually extend the list given any iterable, not just another list. This is really just the particular implementation of that operator for lists."
   ]
  },
  {
   "cell_type": "code",
   "execution_count": 14,
   "metadata": {},
   "outputs": [
    {
     "name": "stdout",
     "output_type": "stream",
     "text": [
      "1880682247880 [1, 2, 3, 4]\n",
      "1880682364864 (5, 6, 7)\n"
     ]
    }
   ],
   "source": [
    "l1 = [1, 2, 3, 4]\n",
    "t1 = 5, 6, 7\n",
    "print(id(l1), l1)\n",
    "print(id(t1), t1)"
   ]
  },
  {
   "cell_type": "code",
   "execution_count": 15,
   "metadata": {},
   "outputs": [
    {
     "name": "stdout",
     "output_type": "stream",
     "text": [
      "1880682247880 [1, 2, 3, 4, 5, 6, 7]\n"
     ]
    }
   ],
   "source": [
    "l1 += t1\n",
    "print(id(l1), l1)"
   ]
  },
  {
   "cell_type": "markdown",
   "metadata": {},
   "source": [
    "And this will work with other iterables as well:"
   ]
  },
  {
   "cell_type": "code",
   "execution_count": 16,
   "metadata": {},
   "outputs": [
    {
     "name": "stdout",
     "output_type": "stream",
     "text": [
      "1880682247880 [1, 2, 3, 4, 5, 6, 7, 8, 9, 10]\n"
     ]
    }
   ],
   "source": [
    "l1 += range(8, 11)\n",
    "print(id(l1), l1)"
   ]
  },
  {
   "cell_type": "markdown",
   "metadata": {},
   "source": [
    "or even with iterable non-sequence types:"
   ]
  },
  {
   "cell_type": "code",
   "execution_count": 17,
   "metadata": {},
   "outputs": [
    {
     "name": "stdout",
     "output_type": "stream",
     "text": [
      "1880682247880 [1, 2, 3, 4, 5, 6, 7, 8, 9, 10, 11, 12, 13]\n"
     ]
    }
   ],
   "source": [
    "l1 += {11, 12, 13}\n",
    "print(id(l1), l1)"
   ]
  },
  {
   "cell_type": "markdown",
   "metadata": {},
   "source": [
    "Of course, this will **not work** with **immutable** sequence types, such as tuples or strings:"
   ]
  },
  {
   "cell_type": "code",
   "execution_count": 18,
   "metadata": {},
   "outputs": [
    {
     "name": "stdout",
     "output_type": "stream",
     "text": [
      "1880682361264 (1, 2, 3)\n",
      "1880682364864 (4, 5, 6)\n"
     ]
    }
   ],
   "source": [
    "t1 = 1, 2, 3\n",
    "t2 = 4, 5, 6\n",
    "print(id(t1), t1)\n",
    "print(id(t2), t2)"
   ]
  },
  {
   "cell_type": "code",
   "execution_count": 19,
   "metadata": {},
   "outputs": [
    {
     "name": "stdout",
     "output_type": "stream",
     "text": [
      "1880682361264 (1, 2, 3)\n"
     ]
    }
   ],
   "source": [
    "print(id(t1), t1)"
   ]
  },
  {
   "cell_type": "markdown",
   "metadata": {},
   "source": [
    "We cannot mutate an immutable container!\n",
    "What happens is that `+=` is not actually defined for the `tuple`, and so Python essentially executed this code:\n",
    "\n",
    "`t1 = t1 + t2`\n",
    "\n",
    "which, as we already know, always creates a new object."
   ]
  },
  {
   "cell_type": "markdown",
   "metadata": {
    "collapsed": true
   },
   "source": [
    "##### In-Place Repetition"
   ]
  },
  {
   "cell_type": "markdown",
   "metadata": {},
   "source": [
    "A similar result holds for in-place repetition.\n",
    "\n",
    "Let's see this using a list (mutable sequence type) first:"
   ]
  },
  {
   "cell_type": "code",
   "execution_count": 20,
   "metadata": {},
   "outputs": [
    {
     "name": "stdout",
     "output_type": "stream",
     "text": [
      "1880679349960 [1, 2, 3]\n"
     ]
    }
   ],
   "source": [
    "l = [1, 2, 3]\n",
    "print(id(l), l)"
   ]
  },
  {
   "cell_type": "code",
   "execution_count": 21,
   "metadata": {},
   "outputs": [
    {
     "name": "stdout",
     "output_type": "stream",
     "text": [
      "1880679349960 [1, 2, 3, 1, 2, 3]\n"
     ]
    }
   ],
   "source": [
    "l *= 2\n",
    "print(id(l), l)"
   ]
  },
  {
   "cell_type": "markdown",
   "metadata": {},
   "source": [
    "But obviously this operator will work differently if the sequence type is immutable:"
   ]
  },
  {
   "cell_type": "code",
   "execution_count": 22,
   "metadata": {},
   "outputs": [
    {
     "name": "stdout",
     "output_type": "stream",
     "text": [
      "1880682365000 (1, 2, 3)\n"
     ]
    }
   ],
   "source": [
    "t = (1, 2, 3)\n",
    "print(id(t), t)"
   ]
  },
  {
   "cell_type": "code",
   "execution_count": 23,
   "metadata": {},
   "outputs": [
    {
     "name": "stdout",
     "output_type": "stream",
     "text": [
      "1880681263656 (1, 2, 3, 1, 2, 3)\n"
     ]
    }
   ],
   "source": [
    "t *= 2\n",
    "print(id(t), t)"
   ]
  }
 ],
 "metadata": {
  "kernelspec": {
   "display_name": "Python 3",
   "language": "python",
   "name": "python3"
  },
  "language_info": {
   "codemirror_mode": {
    "name": "ipython",
    "version": 3
   },
   "file_extension": ".py",
   "mimetype": "text/x-python",
   "name": "python",
   "nbconvert_exporter": "python",
   "pygments_lexer": "ipython3",
   "version": "3.6.8"
  }
 },
 "nbformat": 4,
 "nbformat_minor": 2
}

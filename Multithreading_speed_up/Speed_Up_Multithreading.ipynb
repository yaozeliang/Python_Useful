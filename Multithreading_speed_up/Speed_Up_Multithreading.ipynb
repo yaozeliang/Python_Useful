{
 "cells": [
  {
   "cell_type": "markdown",
   "metadata": {},
   "source": [
    "# Before multithreading"
   ]
  },
  {
   "cell_type": "code",
   "execution_count": 1,
   "metadata": {},
   "outputs": [
    {
     "name": "stdout",
     "output_type": "stream",
     "text": [
      "200\n",
      "200\n",
      "200\n",
      "200\n",
      "200\n",
      "200\n",
      "200\n",
      "200\n",
      "200\n",
      "200\n",
      "200\n",
      "200\n",
      "200\n",
      "200\n",
      "Time taken: 13.687922239303589\n"
     ]
    }
   ],
   "source": [
    "import requests\n",
    "from time import time\n",
    "\n",
    "url_list = [\n",
    "    \"https://via.placeholder.com/400\",\n",
    "    \"https://via.placeholder.com/410\",\n",
    "    \"https://via.placeholder.com/420\",\n",
    "    \"https://via.placeholder.com/430\",\n",
    "    \"https://via.placeholder.com/440\",\n",
    "    \"https://via.placeholder.com/450\",\n",
    "    \"https://via.placeholder.com/460\",\n",
    "    \"https://via.placeholder.com/470\",\n",
    "    \"https://via.placeholder.com/480\",\n",
    "    \"https://via.placeholder.com/490\",\n",
    "    \"https://via.placeholder.com/500\",\n",
    "    \"https://via.placeholder.com/510\",\n",
    "    \"https://via.placeholder.com/520\",\n",
    "    \"https://via.placeholder.com/530\",\n",
    "]\n",
    "\n",
    "def download_file(url):\n",
    "    html = requests.get(url, stream=True)\n",
    "    return html.status_code\n",
    "\n",
    "start = time()\n",
    "\n",
    "for url in url_list:\n",
    "    print(download_file(url))\n",
    "\n",
    "print(f'Time taken: {time() - start}')"
   ]
  },
  {
   "cell_type": "markdown",
   "metadata": {},
   "source": [
    "# After Speed up"
   ]
  },
  {
   "cell_type": "code",
   "execution_count": 3,
   "metadata": {},
   "outputs": [
    {
     "name": "stdout",
     "output_type": "stream",
     "text": [
      "200\n",
      "200\n",
      "200\n",
      "200\n",
      "200\n",
      "200\n",
      "200\n",
      "200\n",
      "200\n",
      "200\n",
      "200\n",
      "200\n",
      "200\n",
      "200\n",
      "Time taken: 2.054238796234131\n"
     ]
    }
   ],
   "source": [
    "import requests\n",
    "from concurrent.futures import ThreadPoolExecutor, as_completed\n",
    "from time import time\n",
    "\n",
    "url_list = [\n",
    "    \"https://via.placeholder.com/400\",\n",
    "    \"https://via.placeholder.com/410\",\n",
    "    \"https://via.placeholder.com/420\",\n",
    "    \"https://via.placeholder.com/430\",\n",
    "    \"https://via.placeholder.com/440\",\n",
    "    \"https://via.placeholder.com/450\",\n",
    "    \"https://via.placeholder.com/460\",\n",
    "    \"https://via.placeholder.com/470\",\n",
    "    \"https://via.placeholder.com/480\",\n",
    "    \"https://via.placeholder.com/490\",\n",
    "    \"https://via.placeholder.com/500\",\n",
    "    \"https://via.placeholder.com/510\",\n",
    "    \"https://via.placeholder.com/520\",\n",
    "    \"https://via.placeholder.com/530\",\n",
    "]\n",
    "\n",
    "def download_file(url):\n",
    "    html = requests.get(url, stream=True)\n",
    "    return html.status_code\n",
    "\n",
    "start = time()\n",
    "\n",
    "processes = []\n",
    "with ThreadPoolExecutor(max_workers=10) as executor:\n",
    "    for url in url_list:\n",
    "        processes.append(executor.submit(download_file, url))\n",
    "\n",
    "for task in as_completed(processes):\n",
    "    print(task.result())\n",
    "\n",
    "\n",
    "print(f'Time taken: {time() - start}')"
   ]
  },
  {
   "cell_type": "code",
   "execution_count": null,
   "metadata": {},
   "outputs": [],
   "source": []
  }
 ],
 "metadata": {
  "kernelspec": {
   "display_name": "Python 3",
   "language": "python",
   "name": "python3"
  },
  "language_info": {
   "codemirror_mode": {
    "name": "ipython",
    "version": 3
   },
   "file_extension": ".py",
   "mimetype": "text/x-python",
   "name": "python",
   "nbconvert_exporter": "python",
   "pygments_lexer": "ipython3",
   "version": "3.6.8"
  }
 },
 "nbformat": 4,
 "nbformat_minor": 2
}

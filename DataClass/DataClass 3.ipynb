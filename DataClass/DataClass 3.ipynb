{
 "cells": [
  {
   "cell_type": "markdown",
   "metadata": {},
   "source": [
    "## Data Classes in Python | Set 3 (dataclass fields)"
   ]
  },
  {
   "cell_type": "markdown",
   "metadata": {},
   "source": [
    "In this post we will discuss how to modify certain properties of the attributes of DataClass object, without explicitly writing code for it using field function."
   ]
  },
  {
   "cell_type": "markdown",
   "metadata": {},
   "source": [
    "field() function –\n",
    "    - dataclasses.field(*, default=MISSING, default_factory=MISSING, repr=True, hash=None, init=True, compare=True, metadata=None) "
   ]
  },
  {
   "cell_type": "code",
   "execution_count": 4,
   "metadata": {},
   "outputs": [
    {
     "data": {
      "text/plain": [
       "GfgArticle(title='DataClass', author='vibhu4agarwal', language='Python3', upvotes=0)"
      ]
     },
     "execution_count": 4,
     "metadata": {},
     "output_type": "execute_result"
    }
   ],
   "source": [
    "from dataclasses import dataclass, field \n",
    "  \n",
    "@dataclass\n",
    "class GfgArticle: \n",
    "    title: str\n",
    "    author: str\n",
    "    language: str = field(default ='Python3') \n",
    "    upvotes: int = 0\n",
    "        \n",
    "# A DataClass Object\n",
    "article = GfgArticle(\"DataClass\", \"vibhu4agarwal\") \n",
    "article"
   ]
  },
  {
   "cell_type": "markdown",
   "metadata": {},
   "source": [
    "default_factory : If provided, it must be a zero-argument callable that will be called when a default value is needed for this field.\n",
    "The return value of the callable will be set as the default value for the attribute in object creation."
   ]
  },
  {
   "cell_type": "code",
   "execution_count": 7,
   "metadata": {},
   "outputs": [
    {
     "name": "stdout",
     "output_type": "stream",
     "text": [
      "GfgArticle(title='DataClass', author='vibhu4agarwal', language='Python3', upvotes=0)\n"
     ]
    }
   ],
   "source": [
    "from dataclasses import dataclass, field \n",
    "from random import choice \n",
    "  \n",
    "def get_default_language(): \n",
    "    languages = ['Python3', 'Java', \"CPP\"] \n",
    "    return choice(languages) \n",
    "  \n",
    "@dataclass\n",
    "class GfgArticle: \n",
    "    title: str\n",
    "    author: str\n",
    "    language: str = field(default_factory = get_default_language) \n",
    "    upvotes: int = 0\n",
    " \n",
    "article = GfgArticle(\"DataClass\", \"vibhu4agarwal\") \n",
    "print(article) "
   ]
  },
  {
   "cell_type": "markdown",
   "metadata": {},
   "source": [
    "The above code puts one of the Python3, Java or CPP as default value for language while DataClass object creation. \n",
    "The init, repr and hash parameters are similar to that in the dataclass function as discussed in previous article. compare parameter can be related to order as that in dataclass function. The difference is being in their ability to be applicable only to a particular attribute, not to all the attributes in the DataClass under the decorator.\n",
    "\n",
    "- init : If true (the default), this field is included as a parameter to the generated __init__() method. A way to set default value should be provided when init is set to False.\n",
    "- repr : If true (the default), this field is included in the string returned by the generated __repr__() method.\n",
    "- compare : If true (the default), this field is included in the generated equality and comparison methods (__eq__(), __gt__(), et al.)"
   ]
  },
  {
   "cell_type": "code",
   "execution_count": 9,
   "metadata": {},
   "outputs": [
    {
     "name": "stdout",
     "output_type": "stream",
     "text": [
      "GfgArticle(title='DataClass', language='Python3', upvotes=0)\n"
     ]
    },
    {
     "data": {
      "text/plain": [
       "'vibhu4agarwal'"
      ]
     },
     "execution_count": 9,
     "metadata": {},
     "output_type": "execute_result"
    }
   ],
   "source": [
    "from dataclasses import dataclass, field \n",
    "  \n",
    "@dataclass\n",
    "class GfgArticle: \n",
    "  \n",
    "    title: str = field(compare = False) \n",
    "    author: str = field(repr = False) \n",
    "    language: str = field(default ='Python3') \n",
    "    upvotes: int = field(init = False, default = 0) \n",
    "  \n",
    "# DataClass objects \n",
    "# Note the difference in their title value \n",
    "article1 = GfgArticle(\"DataClass\", \"vibhu4agarwal\") \n",
    "article2 = GfgArticle(\"Python Packaging\", \"vibhu4agarwal\") \n",
    "  \n",
    "print(article1) \n",
    "article1.author\n",
    "# print(article1 == article2) "
   ]
  },
  {
   "cell_type": "markdown",
   "metadata": {},
   "source": [
    "- hash : This can be a bool or None. If true, this field is included in the generated __hash__() method. If None (the default), use the value of compare: this would normally be the expected behavior.\n",
    "\n",
    "A field should be considered in the hash if it’s used for comparisons. Setting this value to anything other than None is discouraged.\n",
    "\n",
    "- metadata : This is usually a dictionary, the key-value pair indicating various information and it’s data.\n",
    "\n",
    "In the script, it’s value can be accessed by querying __dataclass_fields__ variable of the object."
   ]
  },
  {
   "cell_type": "code",
   "execution_count": 10,
   "metadata": {},
   "outputs": [
    {
     "name": "stdout",
     "output_type": "stream",
     "text": [
      "GfgArticle(title='DataClass', author='vibhu4agarwal', language='Python3', upvotes=0)\n",
      "{'data': 'Profile Handle'}\n"
     ]
    }
   ],
   "source": [
    "from dataclasses import dataclass, field \n",
    "  \n",
    "@dataclass\n",
    "class GfgArticle: \n",
    "  \n",
    "    title: str = field(compare = False) \n",
    "    author: str = field(metadata ={'data': 'Profile Handle'}) \n",
    "    language: str = field(default ='Python3') \n",
    "    upvotes: int = field(init = False, default = 0) \n",
    "  \n",
    "# A DataClass object \n",
    "article = GfgArticle(\"DataClass\", \"vibhu4agarwal\") \n",
    "print(article) \n",
    "print(article.__dataclass_fields__['author'].metadata) "
   ]
  },
  {
   "cell_type": "code",
   "execution_count": null,
   "metadata": {},
   "outputs": [],
   "source": []
  }
 ],
 "metadata": {
  "kernelspec": {
   "display_name": "Python 3",
   "language": "python",
   "name": "python3"
  },
  "language_info": {
   "codemirror_mode": {
    "name": "ipython",
    "version": 3
   },
   "file_extension": ".py",
   "mimetype": "text/x-python",
   "name": "python",
   "nbconvert_exporter": "python",
   "pygments_lexer": "ipython3",
   "version": "3.7.3"
  }
 },
 "nbformat": 4,
 "nbformat_minor": 2
}

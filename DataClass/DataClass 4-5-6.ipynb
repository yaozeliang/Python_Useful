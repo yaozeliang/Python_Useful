{
 "cells": [
  {
   "cell_type": "markdown",
   "metadata": {},
   "source": [
    "## Data Classes in Python | Set 4 (Inheritance)"
   ]
  },
  {
   "cell_type": "code",
   "execution_count": 1,
   "metadata": {},
   "outputs": [],
   "source": [
    "from dataclasses import dataclass"
   ]
  },
  {
   "cell_type": "code",
   "execution_count": 4,
   "metadata": {},
   "outputs": [],
   "source": [
    "@dataclass\n",
    "class Article:\n",
    "    title:str\n",
    "    content:str\n",
    "    author:str\n",
    "\n",
    "@dataclass\n",
    "class GfgArticle(Article):\n",
    "    language:str\n",
    "    author:str\n",
    "    upvotes:int=0"
   ]
  },
  {
   "cell_type": "markdown",
   "metadata": {},
   "source": [
    "Few points from above code:\n",
    "1. Article is subclassed by GfgArticle\n",
    "2. Both SuperClass and SubClass are DataClasses – although super-class or sub-class being a normal class is also possible. When a DataClass inherits a normal class, the __init__() from the super-class is overidden in sub-class.\n",
    "3. `author` in GfgArticle overrides the same in Article – As the basic concept of inheritance, the value for its assignment is first looked in the sub-class and followed up the tree in super-class."
   ]
  },
  {
   "cell_type": "markdown",
   "metadata": {},
   "source": [
    ">Behaviour of __init__() of GfgArticle: If __init__() is not explicitly provided, the default __init__() expects attributes of super-class (Article) followed by attributes of sub-class as parameters."
   ]
  },
  {
   "cell_type": "markdown",
   "metadata": {},
   "source": [
    "> GfgArticle(title: str, content: str, author: str, language: str, upvotes: int = 0)"
   ]
  },
  {
   "cell_type": "markdown",
   "metadata": {},
   "source": [
    "#### Note: The signature expects author before language in-spite of opposite order of declaration in GfgArticle. This comes from the fact that attributes are scanned top to bottom from super-class followed by sub-class. So author is first scanned in Article then language is scanned in GfgArticle."
   ]
  },
  {
   "cell_type": "code",
   "execution_count": 5,
   "metadata": {},
   "outputs": [
    {
     "data": {
      "text/plain": [
       "GfgArticle(title='DataClass', content='SuperCool DataStructure', author='vibhu4agarwal', language='Python3', upvotes=0)"
      ]
     },
     "execution_count": 5,
     "metadata": {},
     "output_type": "execute_result"
    }
   ],
   "source": [
    "dClassObj = GfgArticle(\"DataClass\", \n",
    "                       \"SuperCool DataStructure\", \n",
    "                       \"vibhu4agarwal\", \n",
    "                       \"Python3\") \n",
    "dClassObj"
   ]
  },
  {
   "cell_type": "markdown",
   "metadata": {},
   "source": [
    "#### If __init__() is explicitly provided, it should somehow initialize all it’s own attributes as well as those in the super-class (Article)."
   ]
  },
  {
   "cell_type": "code",
   "execution_count": 7,
   "metadata": {},
   "outputs": [
    {
     "data": {
      "text/plain": [
       "GfgArticle(title='DataClass', content='Inheritance Concepts', author='vibhu4agarwal', language='Python3', upvotes=0)"
      ]
     },
     "execution_count": 7,
     "metadata": {},
     "output_type": "execute_result"
    }
   ],
   "source": [
    "from dataclasses import dataclass \n",
    "  \n",
    "@dataclass\n",
    "class Article: \n",
    "    title: str\n",
    "    content: str\n",
    "    author: str\n",
    "  \n",
    "  \n",
    "@dataclass(init = False) \n",
    "class GfgArticle(Article): \n",
    "  \n",
    "    language: str\n",
    "    author: str\n",
    "    upvotes: int = 0\n",
    "  \n",
    "    def __init__(self, title): \n",
    "        self.title = title \n",
    "        self.content = \"Inheritance Concepts\"\n",
    "        self.author = \"vibhu4agarwal\"\n",
    "        self.language = \"Python3\"\n",
    "        \n",
    "  \n",
    "  \n",
    "dClassObj = GfgArticle(\"DataClass\") \n",
    "dClassObj"
   ]
  },
  {
   "cell_type": "markdown",
   "metadata": {},
   "source": [
    "## Data Classes in Python | Set 5 (post-init)"
   ]
  },
  {
   "cell_type": "markdown",
   "metadata": {},
   "source": [
    "In this post, we will discuss how to modify values of some attributes during object creation without coding it in __init__() by using post-init processing.\n",
    "\n",
    "`__post_init__()`: This function when made, is called by in-built __init__() after initialization of all the attributes of DataClass. Basically, object creation of DataClass starts with __init__() (constructor-calling) and ends with __post__init__() (post-init processing)."
   ]
  },
  {
   "cell_type": "markdown",
   "metadata": {},
   "source": [
    "### Use –\n",
    "\n",
    "This feature is very handy at times when certain attributes are dependent on the parameters passed in the __init__() but do not get their values directly from them. That is, they get their values after performing some operation on a subset of arguments received in the constructor.\n",
    "\n",
    "Continuing the same example we’ve been seeing in this series of articles, suppose there is an attribute called author_name which gets its value from the profile handle to name mapping in the defined dictionary name.\n",
    "So author_name is dependent on profile handle which author attribute receives, so using __post_init__() should be an ideal choice this case."
   ]
  },
  {
   "cell_type": "code",
   "execution_count": 17,
   "metadata": {},
   "outputs": [
    {
     "data": {
      "text/plain": [
       "GfgArticle(title='Learn Python', language='FR', fake_name='Terrain', real_name='Jim', upvotes=0)"
      ]
     },
     "execution_count": 17,
     "metadata": {},
     "output_type": "execute_result"
    }
   ],
   "source": [
    "from dataclasses import dataclass, field \n",
    "  \n",
    "name_data = {'Terrain': 'Jim','Protoss':'Probe','Zerg':'Queen'} \n",
    "  \n",
    "@dataclass\n",
    "class GfgArticle: \n",
    "  \n",
    "    title : str\n",
    "    language: str\n",
    "    fake_name: str\n",
    "    real_name: str = field(init = False) \n",
    "    upvotes: int = 0\n",
    "  \n",
    "    def __post_init__(self): \n",
    "        self.real_name = name_data.get(self.fake_name,'Sorry, Not found')\n",
    "        \n",
    "\n",
    "t1 = GfgArticle(\"Learn Python\",'FR','Terrain')\n",
    "t1"
   ]
  },
  {
   "cell_type": "code",
   "execution_count": 18,
   "metadata": {},
   "outputs": [
    {
     "data": {
      "text/plain": [
       "GfgArticle(title='Learn Python', language='FR', fake_name='Apple', real_name='Sorry, Not found', upvotes=0)"
      ]
     },
     "execution_count": 18,
     "metadata": {},
     "output_type": "execute_result"
    }
   ],
   "source": [
    "t2 = GfgArticle(\"Learn Python\",'FR','Apple')\n",
    "t2"
   ]
  },
  {
   "cell_type": "markdown",
   "metadata": {},
   "source": [
    "## Data Classes in Python | Set 6 (interconversion to and from other datatypes)"
   ]
  },
  {
   "cell_type": "markdown",
   "metadata": {},
   "source": [
    "we will discuss how to get values of a DataClass object into a dictionary or tuple pairs and how to create a DataClass in a different way – from values, instead of defining it directly."
   ]
  },
  {
   "cell_type": "markdown",
   "metadata": {},
   "source": [
    "`asdict() function – `:dataclasses.asdict(instance, *, dict_factory=dict)"
   ]
  },
  {
   "cell_type": "raw",
   "metadata": {},
   "source": [
    "One can simply obtain an attribute to value pair mappings in form of a dictionary by using this function, passing the DataClass object to the instance parameter of the function."
   ]
  },
  {
   "cell_type": "markdown",
   "metadata": {},
   "source": [
    "`astuple() function – `:dataclasses.astuple(instance, *, tuple_factory=tuple)"
   ]
  },
  {
   "cell_type": "raw",
   "metadata": {},
   "source": [
    "Similar to asdict, one can simply obtain ordered values of dataclass attributes in the form of a tuple using this function by passing the DataClass object to the instance parameter of the function."
   ]
  },
  {
   "cell_type": "code",
   "execution_count": 22,
   "metadata": {
    "scrolled": true
   },
   "outputs": [
    {
     "name": "stdout",
     "output_type": "stream",
     "text": [
      "{'title': 'DataClass', 'language': 'Python3', 'author': 'vibhu4agarwal', 'upvotes': 0}\n",
      "('DataClass', 'Python3', 'vibhu4agarwal', 0)\n"
     ]
    }
   ],
   "source": [
    "from dataclasses import dataclass,field\n",
    "from dataclasses import asdict,astuple \n",
    "  \n",
    "@dataclass\n",
    "class GfgArticle: \n",
    "  \n",
    "    title : str\n",
    "    language: str\n",
    "    author: str\n",
    "    upvotes: int = field(default = 0) \n",
    "  \n",
    "  \n",
    "dClassObj = GfgArticle(\"DataClass\", \n",
    "                       \"Python3\", \n",
    "                       \"vibhu4agarwal\") \n",
    "  \n",
    "dictArticle = asdict(dClassObj) \n",
    "tupleArticle = astuple(dClassObj) \n",
    "  \n",
    "print(dictArticle) \n",
    "print(tupleArticle) "
   ]
  },
  {
   "cell_type": "markdown",
   "metadata": {},
   "source": [
    "### `make_dataclass()` function "
   ]
  },
  {
   "cell_type": "code",
   "execution_count": 23,
   "metadata": {
    "scrolled": true
   },
   "outputs": [
    {
     "data": {
      "text/plain": [
       "GfgArticle(title='DataClass', language='Python3', author='vibhu4agarwal', upvotes=0)"
      ]
     },
     "execution_count": 23,
     "metadata": {},
     "output_type": "execute_result"
    }
   ],
   "source": [
    "from dataclasses import make_dataclass, field \n",
    "  \n",
    "GfgArticle = make_dataclass( \n",
    "    'GfgArticle', \n",
    "    [ \n",
    "        ('title', str), \n",
    "        ('language', str), \n",
    "        ('author', str), \n",
    "        ('upvotes', int, field(default = 0)) \n",
    "    ] \n",
    ") \n",
    "  \n",
    "dClassObj = GfgArticle(\"DataClass\", \n",
    "                       \"Python3\", \n",
    "                       \"vibhu4agarwal\") \n",
    "dClassObj"
   ]
  },
  {
   "cell_type": "markdown",
   "metadata": {},
   "source": [
    "### `is_dataclass()` function "
   ]
  },
  {
   "cell_type": "code",
   "execution_count": 25,
   "metadata": {},
   "outputs": [
    {
     "name": "stdout",
     "output_type": "stream",
     "text": [
      "False\n",
      "False\n"
     ]
    }
   ],
   "source": [
    "from dataclasses import is_dataclass \n",
    "  \n",
    "print(is_dataclass(dictArticle)) \n",
    "print(is_dataclass(tupleArticle)) "
   ]
  },
  {
   "cell_type": "code",
   "execution_count": 27,
   "metadata": {},
   "outputs": [
    {
     "data": {
      "text/plain": [
       "True"
      ]
     },
     "execution_count": 27,
     "metadata": {},
     "output_type": "execute_result"
    }
   ],
   "source": [
    "is_dataclass(dClassObj)"
   ]
  },
  {
   "cell_type": "code",
   "execution_count": 28,
   "metadata": {},
   "outputs": [
    {
     "data": {
      "text/plain": [
       "True"
      ]
     },
     "execution_count": 28,
     "metadata": {},
     "output_type": "execute_result"
    }
   ],
   "source": [
    "is_dataclass(GfgArticle)"
   ]
  }
 ],
 "metadata": {
  "kernelspec": {
   "display_name": "Python 3",
   "language": "python",
   "name": "python3"
  },
  "language_info": {
   "codemirror_mode": {
    "name": "ipython",
    "version": 3
   },
   "file_extension": ".py",
   "mimetype": "text/x-python",
   "name": "python",
   "nbconvert_exporter": "python",
   "pygments_lexer": "ipython3",
   "version": "3.7.3"
  }
 },
 "nbformat": 4,
 "nbformat_minor": 2
}
